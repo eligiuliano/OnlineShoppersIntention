{
 "cells": [
  {
   "cell_type": "markdown",
   "id": "fc1a4db0",
   "metadata": {},
   "source": [
    "# Trabajo Practico Modulo 6"
   ]
  },
  {
   "cell_type": "markdown",
   "id": "47b18c92",
   "metadata": {},
   "source": [
    "#### Realización de un análisis de las variables del dataset de Google Analytics como pueden ser histogramas, boxplots, etc. Cualquier otro análisis es bienvenido, siempre explicándolo y con un sentido de negocio.\n"
   ]
  },
  {
   "cell_type": "code",
   "execution_count": 11,
   "id": "966e7026",
   "metadata": {},
   "outputs": [],
   "source": [
    "#importar librerias\n",
    "import numpy as np\n",
    "import matplotlib.pyplot as plt\n",
    "import pandas as pd\n",
    "import sklearn as skl\n",
    "from sklearn import model_selection, preprocessing\n",
    "from sklearn.preprocessing import StandardScaler\n",
    "from sklearn import linear_model\n",
    "from sklearn.model_selection import train_test_split\n",
    "from sklearn.preprocessing import LabelEncoder, MinMaxScaler\n",
    "from sklearn.model_selection import GridSearchCV\n",
    "from sklearn.linear_model import LogisticRegression\n",
    "from sklearn.preprocessing import StandardScaler\n",
    "from sklearn.metrics import confusion_matrix\n",
    "from sklearn.ensemble import RandomForestClassifier\n",
    "import sklearn.metrics as metrics\n",
    "import seaborn as sns\n",
    "import tensorflow as tf"
   ]
  },
  {
   "cell_type": "markdown",
   "id": "0eae140f",
   "metadata": {},
   "source": [
    "## Analisis de datos"
   ]
  },
  {
   "cell_type": "code",
   "execution_count": 12,
   "id": "a0c88a82",
   "metadata": {},
   "outputs": [
    {
     "data": {
      "text/html": [
       "<div>\n",
       "<style scoped>\n",
       "    .dataframe tbody tr th:only-of-type {\n",
       "        vertical-align: middle;\n",
       "    }\n",
       "\n",
       "    .dataframe tbody tr th {\n",
       "        vertical-align: top;\n",
       "    }\n",
       "\n",
       "    .dataframe thead th {\n",
       "        text-align: right;\n",
       "    }\n",
       "</style>\n",
       "<table border=\"1\" class=\"dataframe\">\n",
       "  <thead>\n",
       "    <tr style=\"text-align: right;\">\n",
       "      <th></th>\n",
       "      <th>Administrative</th>\n",
       "      <th>Administrative_Duration</th>\n",
       "      <th>Informational</th>\n",
       "      <th>Informational_Duration</th>\n",
       "      <th>ProductRelated</th>\n",
       "      <th>ProductRelated_Duration</th>\n",
       "      <th>BounceRates</th>\n",
       "      <th>ExitRates</th>\n",
       "      <th>PageValues</th>\n",
       "      <th>SpecialDay</th>\n",
       "      <th>Month</th>\n",
       "      <th>OperatingSystems</th>\n",
       "      <th>Browser</th>\n",
       "      <th>Region</th>\n",
       "      <th>TrafficType</th>\n",
       "      <th>VisitorType</th>\n",
       "      <th>Weekend</th>\n",
       "      <th>Revenue</th>\n",
       "    </tr>\n",
       "  </thead>\n",
       "  <tbody>\n",
       "    <tr>\n",
       "      <th>0</th>\n",
       "      <td>0.0</td>\n",
       "      <td>0.0</td>\n",
       "      <td>0.0</td>\n",
       "      <td>0.0</td>\n",
       "      <td>1.0</td>\n",
       "      <td>0.000000</td>\n",
       "      <td>0.200000</td>\n",
       "      <td>0.200000</td>\n",
       "      <td>0.0</td>\n",
       "      <td>0.0</td>\n",
       "      <td>Feb</td>\n",
       "      <td>1</td>\n",
       "      <td>1</td>\n",
       "      <td>1</td>\n",
       "      <td>1</td>\n",
       "      <td>Returning_Visitor</td>\n",
       "      <td>False</td>\n",
       "      <td>False</td>\n",
       "    </tr>\n",
       "    <tr>\n",
       "      <th>1</th>\n",
       "      <td>0.0</td>\n",
       "      <td>0.0</td>\n",
       "      <td>0.0</td>\n",
       "      <td>0.0</td>\n",
       "      <td>2.0</td>\n",
       "      <td>64.000000</td>\n",
       "      <td>0.000000</td>\n",
       "      <td>0.100000</td>\n",
       "      <td>0.0</td>\n",
       "      <td>0.0</td>\n",
       "      <td>Feb</td>\n",
       "      <td>2</td>\n",
       "      <td>2</td>\n",
       "      <td>1</td>\n",
       "      <td>2</td>\n",
       "      <td>Returning_Visitor</td>\n",
       "      <td>False</td>\n",
       "      <td>False</td>\n",
       "    </tr>\n",
       "    <tr>\n",
       "      <th>2</th>\n",
       "      <td>0.0</td>\n",
       "      <td>-1.0</td>\n",
       "      <td>0.0</td>\n",
       "      <td>-1.0</td>\n",
       "      <td>1.0</td>\n",
       "      <td>-1.000000</td>\n",
       "      <td>0.200000</td>\n",
       "      <td>0.200000</td>\n",
       "      <td>0.0</td>\n",
       "      <td>0.0</td>\n",
       "      <td>Feb</td>\n",
       "      <td>4</td>\n",
       "      <td>1</td>\n",
       "      <td>9</td>\n",
       "      <td>3</td>\n",
       "      <td>Returning_Visitor</td>\n",
       "      <td>False</td>\n",
       "      <td>False</td>\n",
       "    </tr>\n",
       "    <tr>\n",
       "      <th>3</th>\n",
       "      <td>0.0</td>\n",
       "      <td>0.0</td>\n",
       "      <td>0.0</td>\n",
       "      <td>0.0</td>\n",
       "      <td>2.0</td>\n",
       "      <td>2.666667</td>\n",
       "      <td>0.050000</td>\n",
       "      <td>0.140000</td>\n",
       "      <td>0.0</td>\n",
       "      <td>0.0</td>\n",
       "      <td>Feb</td>\n",
       "      <td>3</td>\n",
       "      <td>2</td>\n",
       "      <td>2</td>\n",
       "      <td>4</td>\n",
       "      <td>Returning_Visitor</td>\n",
       "      <td>False</td>\n",
       "      <td>False</td>\n",
       "    </tr>\n",
       "    <tr>\n",
       "      <th>4</th>\n",
       "      <td>0.0</td>\n",
       "      <td>0.0</td>\n",
       "      <td>0.0</td>\n",
       "      <td>0.0</td>\n",
       "      <td>10.0</td>\n",
       "      <td>627.500000</td>\n",
       "      <td>0.020000</td>\n",
       "      <td>0.050000</td>\n",
       "      <td>0.0</td>\n",
       "      <td>0.0</td>\n",
       "      <td>Feb</td>\n",
       "      <td>3</td>\n",
       "      <td>3</td>\n",
       "      <td>1</td>\n",
       "      <td>4</td>\n",
       "      <td>Returning_Visitor</td>\n",
       "      <td>True</td>\n",
       "      <td>False</td>\n",
       "    </tr>\n",
       "    <tr>\n",
       "      <th>5</th>\n",
       "      <td>0.0</td>\n",
       "      <td>0.0</td>\n",
       "      <td>0.0</td>\n",
       "      <td>0.0</td>\n",
       "      <td>19.0</td>\n",
       "      <td>154.216667</td>\n",
       "      <td>0.015789</td>\n",
       "      <td>0.024561</td>\n",
       "      <td>0.0</td>\n",
       "      <td>0.0</td>\n",
       "      <td>Feb</td>\n",
       "      <td>2</td>\n",
       "      <td>2</td>\n",
       "      <td>1</td>\n",
       "      <td>3</td>\n",
       "      <td>Returning_Visitor</td>\n",
       "      <td>False</td>\n",
       "      <td>False</td>\n",
       "    </tr>\n",
       "    <tr>\n",
       "      <th>6</th>\n",
       "      <td>0.0</td>\n",
       "      <td>-1.0</td>\n",
       "      <td>0.0</td>\n",
       "      <td>-1.0</td>\n",
       "      <td>1.0</td>\n",
       "      <td>-1.000000</td>\n",
       "      <td>0.200000</td>\n",
       "      <td>0.200000</td>\n",
       "      <td>0.0</td>\n",
       "      <td>0.4</td>\n",
       "      <td>Feb</td>\n",
       "      <td>2</td>\n",
       "      <td>4</td>\n",
       "      <td>3</td>\n",
       "      <td>3</td>\n",
       "      <td>Returning_Visitor</td>\n",
       "      <td>False</td>\n",
       "      <td>False</td>\n",
       "    </tr>\n",
       "    <tr>\n",
       "      <th>7</th>\n",
       "      <td>1.0</td>\n",
       "      <td>-1.0</td>\n",
       "      <td>0.0</td>\n",
       "      <td>-1.0</td>\n",
       "      <td>1.0</td>\n",
       "      <td>-1.000000</td>\n",
       "      <td>0.200000</td>\n",
       "      <td>0.200000</td>\n",
       "      <td>0.0</td>\n",
       "      <td>0.0</td>\n",
       "      <td>Feb</td>\n",
       "      <td>1</td>\n",
       "      <td>2</td>\n",
       "      <td>1</td>\n",
       "      <td>5</td>\n",
       "      <td>Returning_Visitor</td>\n",
       "      <td>True</td>\n",
       "      <td>False</td>\n",
       "    </tr>\n",
       "    <tr>\n",
       "      <th>8</th>\n",
       "      <td>0.0</td>\n",
       "      <td>0.0</td>\n",
       "      <td>0.0</td>\n",
       "      <td>0.0</td>\n",
       "      <td>2.0</td>\n",
       "      <td>37.000000</td>\n",
       "      <td>0.000000</td>\n",
       "      <td>0.100000</td>\n",
       "      <td>0.0</td>\n",
       "      <td>0.8</td>\n",
       "      <td>Feb</td>\n",
       "      <td>2</td>\n",
       "      <td>2</td>\n",
       "      <td>2</td>\n",
       "      <td>3</td>\n",
       "      <td>Returning_Visitor</td>\n",
       "      <td>False</td>\n",
       "      <td>False</td>\n",
       "    </tr>\n",
       "    <tr>\n",
       "      <th>9</th>\n",
       "      <td>0.0</td>\n",
       "      <td>0.0</td>\n",
       "      <td>0.0</td>\n",
       "      <td>0.0</td>\n",
       "      <td>3.0</td>\n",
       "      <td>738.000000</td>\n",
       "      <td>0.000000</td>\n",
       "      <td>0.022222</td>\n",
       "      <td>0.0</td>\n",
       "      <td>0.4</td>\n",
       "      <td>Feb</td>\n",
       "      <td>2</td>\n",
       "      <td>4</td>\n",
       "      <td>1</td>\n",
       "      <td>2</td>\n",
       "      <td>Returning_Visitor</td>\n",
       "      <td>False</td>\n",
       "      <td>False</td>\n",
       "    </tr>\n",
       "  </tbody>\n",
       "</table>\n",
       "</div>"
      ],
      "text/plain": [
       "   Administrative  Administrative_Duration  Informational  \\\n",
       "0             0.0                      0.0            0.0   \n",
       "1             0.0                      0.0            0.0   \n",
       "2             0.0                     -1.0            0.0   \n",
       "3             0.0                      0.0            0.0   \n",
       "4             0.0                      0.0            0.0   \n",
       "5             0.0                      0.0            0.0   \n",
       "6             0.0                     -1.0            0.0   \n",
       "7             1.0                     -1.0            0.0   \n",
       "8             0.0                      0.0            0.0   \n",
       "9             0.0                      0.0            0.0   \n",
       "\n",
       "   Informational_Duration  ProductRelated  ProductRelated_Duration  \\\n",
       "0                     0.0             1.0                 0.000000   \n",
       "1                     0.0             2.0                64.000000   \n",
       "2                    -1.0             1.0                -1.000000   \n",
       "3                     0.0             2.0                 2.666667   \n",
       "4                     0.0            10.0               627.500000   \n",
       "5                     0.0            19.0               154.216667   \n",
       "6                    -1.0             1.0                -1.000000   \n",
       "7                    -1.0             1.0                -1.000000   \n",
       "8                     0.0             2.0                37.000000   \n",
       "9                     0.0             3.0               738.000000   \n",
       "\n",
       "   BounceRates  ExitRates  PageValues  SpecialDay Month  OperatingSystems  \\\n",
       "0     0.200000   0.200000         0.0         0.0   Feb                 1   \n",
       "1     0.000000   0.100000         0.0         0.0   Feb                 2   \n",
       "2     0.200000   0.200000         0.0         0.0   Feb                 4   \n",
       "3     0.050000   0.140000         0.0         0.0   Feb                 3   \n",
       "4     0.020000   0.050000         0.0         0.0   Feb                 3   \n",
       "5     0.015789   0.024561         0.0         0.0   Feb                 2   \n",
       "6     0.200000   0.200000         0.0         0.4   Feb                 2   \n",
       "7     0.200000   0.200000         0.0         0.0   Feb                 1   \n",
       "8     0.000000   0.100000         0.0         0.8   Feb                 2   \n",
       "9     0.000000   0.022222         0.0         0.4   Feb                 2   \n",
       "\n",
       "   Browser  Region  TrafficType        VisitorType  Weekend  Revenue  \n",
       "0        1       1            1  Returning_Visitor    False    False  \n",
       "1        2       1            2  Returning_Visitor    False    False  \n",
       "2        1       9            3  Returning_Visitor    False    False  \n",
       "3        2       2            4  Returning_Visitor    False    False  \n",
       "4        3       1            4  Returning_Visitor     True    False  \n",
       "5        2       1            3  Returning_Visitor    False    False  \n",
       "6        4       3            3  Returning_Visitor    False    False  \n",
       "7        2       1            5  Returning_Visitor     True    False  \n",
       "8        2       2            3  Returning_Visitor    False    False  \n",
       "9        4       1            2  Returning_Visitor    False    False  "
      ]
     },
     "execution_count": 12,
     "metadata": {},
     "output_type": "execute_result"
    }
   ],
   "source": [
    "#importar archivo\n",
    "df = pd.read_csv('online_shoppers_intention.csv')\n",
    "df[:10]"
   ]
  },
  {
   "cell_type": "code",
   "execution_count": 13,
   "id": "935a587c",
   "metadata": {},
   "outputs": [
    {
     "name": "stdout",
     "output_type": "stream",
     "text": [
      "- El número de filas en el dataset es: 12330\n",
      "- El número de columnas en el dataset es: 18\n",
      "- Los nombres de las variables independientes son: ['Administrative', 'Administrative_Duration', 'Informational', 'Informational_Duration', 'ProductRelated', 'ProductRelated_Duration', 'BounceRates', 'ExitRates', 'PageValues', 'SpecialDay', 'Month', 'OperatingSystems', 'Browser', 'Region', 'TrafficType', 'VisitorType', 'Weekend', 'Revenue']\n"
     ]
    }
   ],
   "source": [
    "# Muestra el número de filas, columnas y variables que hay en el dataset\n",
    "print(u'- El número de filas en el dataset es: {}'.format(df.shape[0]))\n",
    "print(u'- El número de columnas en el dataset es: {}'.format(df.shape[1]))\n",
    "print(u'- Los nombres de las variables independientes son: {}'.format(list(df.columns)))"
   ]
  },
  {
   "cell_type": "markdown",
   "id": "f9888117",
   "metadata": {},
   "source": []
  },
  {
   "cell_type": "code",
   "execution_count": 14,
   "id": "f95fec3e",
   "metadata": {},
   "outputs": [
    {
     "name": "stdout",
     "output_type": "stream",
     "text": [
      "<class 'pandas.core.frame.DataFrame'>\n",
      "RangeIndex: 12330 entries, 0 to 12329\n",
      "Data columns (total 18 columns):\n",
      " #   Column                   Non-Null Count  Dtype  \n",
      "---  ------                   --------------  -----  \n",
      " 0   Administrative           12316 non-null  float64\n",
      " 1   Administrative_Duration  12316 non-null  float64\n",
      " 2   Informational            12316 non-null  float64\n",
      " 3   Informational_Duration   12316 non-null  float64\n",
      " 4   ProductRelated           12316 non-null  float64\n",
      " 5   ProductRelated_Duration  12316 non-null  float64\n",
      " 6   BounceRates              12316 non-null  float64\n",
      " 7   ExitRates                12316 non-null  float64\n",
      " 8   PageValues               12330 non-null  float64\n",
      " 9   SpecialDay               12330 non-null  float64\n",
      " 10  Month                    12330 non-null  object \n",
      " 11  OperatingSystems         12330 non-null  int64  \n",
      " 12  Browser                  12330 non-null  int64  \n",
      " 13  Region                   12330 non-null  int64  \n",
      " 14  TrafficType              12330 non-null  int64  \n",
      " 15  VisitorType              12330 non-null  object \n",
      " 16  Weekend                  12330 non-null  bool   \n",
      " 17  Revenue                  12330 non-null  bool   \n",
      "dtypes: bool(2), float64(10), int64(4), object(2)\n",
      "memory usage: 1.5+ MB\n"
     ]
    }
   ],
   "source": [
    "#Aqui se observa que debemos modificar algunos valores\n",
    "df.info()"
   ]
  },
  {
   "cell_type": "code",
   "execution_count": 15,
   "id": "61f18a9a",
   "metadata": {},
   "outputs": [
    {
     "name": "stdout",
     "output_type": "stream",
     "text": [
      "<class 'pandas.core.frame.DataFrame'>\n",
      "RangeIndex: 12330 entries, 0 to 12329\n",
      "Data columns (total 18 columns):\n",
      " #   Column                   Non-Null Count  Dtype   \n",
      "---  ------                   --------------  -----   \n",
      " 0   Administrative           12316 non-null  float64 \n",
      " 1   Administrative_Duration  12316 non-null  float64 \n",
      " 2   Informational            12316 non-null  float64 \n",
      " 3   Informational_Duration   12316 non-null  float64 \n",
      " 4   ProductRelated           12316 non-null  float64 \n",
      " 5   ProductRelated_Duration  12316 non-null  float64 \n",
      " 6   BounceRates              12316 non-null  float64 \n",
      " 7   ExitRates                12316 non-null  float64 \n",
      " 8   PageValues               12330 non-null  float64 \n",
      " 9   SpecialDay               12330 non-null  float64 \n",
      " 10  Month                    12330 non-null  category\n",
      " 11  OperatingSystems         12330 non-null  category\n",
      " 12  Browser                  12330 non-null  category\n",
      " 13  Region                   12330 non-null  category\n",
      " 14  TrafficType              12330 non-null  category\n",
      " 15  VisitorType              12330 non-null  category\n",
      " 16  Weekend                  12330 non-null  category\n",
      " 17  Revenue                  12330 non-null  category\n",
      "dtypes: category(8), float64(10)\n",
      "memory usage: 1.0 MB\n"
     ]
    },
    {
     "name": "stderr",
     "output_type": "stream",
     "text": [
      "C:\\Users\\GiuliaEl\\AppData\\Local\\Temp/ipykernel_23020/2776682183.py:4: DeprecationWarning: `np.float` is a deprecated alias for the builtin `float`. To silence this warning, use `float` by itself. Doing this will not modify any behavior and is safe. If you specifically wanted the numpy scalar type, use `np.float64` here.\n",
      "Deprecated in NumPy 1.20; for more details and guidance: https://numpy.org/devdocs/release/1.20.0-notes.html#deprecations\n",
      "  X_num = df.select_dtypes(include=[np.float])\n"
     ]
    }
   ],
   "source": [
    "# Divide los datos en subsets para el analisis y convertimos los valores categoricos en category asi facilita el analisis y target \n",
    "X_cat = ['OperatingSystems','Browser','Region','TrafficType','VisitorType','Weekend','Revenue', 'Month']\n",
    "df[X_cat]=df[X_cat].astype('category')\n",
    "X_num = df.select_dtypes(include=[np.float])\n",
    "Y = df['Revenue']\n",
    "\n",
    "df.info()"
   ]
  },
  {
   "cell_type": "code",
   "execution_count": null,
   "id": "8d467dc0",
   "metadata": {},
   "outputs": [],
   "source": []
  },
  {
   "cell_type": "markdown",
   "id": "23c0cbec",
   "metadata": {},
   "source": [
    "## Procedemos a las representacion graficas\n",
    "\n",
    "### Iniciamos con las variables numericas"
   ]
  },
  {
   "cell_type": "code",
   "execution_count": 16,
   "id": "ecf5716f",
   "metadata": {},
   "outputs": [],
   "source": [
    "#normalizamos las variables para la realizacion del analisis de violinplot\n",
    "X_norm = (X_num-X_num.mean())/X_num.std()"
   ]
  },
  {
   "cell_type": "code",
   "execution_count": 17,
   "id": "6a513a0b",
   "metadata": {},
   "outputs": [
    {
     "data": {
      "image/png": "[encoded data removed]",
      "text/plain": [
       "<Figure size 1080x504 with 1 Axes>"
      ]
     },
     "metadata": {
      "needs_background": "light"
     },
     "output_type": "display_data"
    }
   ],
   "source": [
    "plt.figure(figsize=(15,7))\n",
    "ax = sns.violinplot(data=X_norm)\n",
    "ax.set_xticklabels(ax.get_xticklabels(),rotation=90)\n",
    "plt.title(u'Representación de cajas de las variables numericas independientes X')\n",
    "plt.ylabel('Valor de la variable normalizada')\n",
    "_ = plt.xlabel('Nombre de la variable')"
   ]
  },
  {
   "cell_type": "markdown",
   "id": "08567103",
   "metadata": {},
   "source": [
    "Como podemos observar las variables contienen muchos outliners.\n",
    "Asimismo se observa que potencialmente algunos de ellos podrian llevar una distribucion normal aunque la mayoria se observa que no"
   ]
  },
  {
   "cell_type": "code",
   "execution_count": 18,
   "id": "0aadac26",
   "metadata": {},
   "outputs": [
    {
     "data": {
      "image/png": "[encoded data removed]",
      "text/plain": [
       "<Figure size 864x864 with 2 Axes>"
      ]
     },
     "metadata": {
      "needs_background": "light"
     },
     "output_type": "display_data"
    }
   ],
   "source": [
    "#Analizamos inicialmente la correlacion de los datos\n",
    "matrix = np.triu(df.corr())\n",
    "fig, ax = plt.subplots(figsize=(12,12))\n",
    "sns.heatmap(df.corr(), annot=True, ax=ax, fmt='.1g', vmin=-1, vmax=1, center= 0, mask=matrix, cmap='RdBu_r')\n",
    "plt.show()"
   ]
  },
  {
   "cell_type": "markdown",
   "id": "03022901",
   "metadata": {},
   "source": [
    "En general se puede observar que hay muy poca corrlacion en nuestro data set\n",
    "Los casos con mayor correlacion (como se habia observado anteriormente) son:\n",
    "BounceRates & ExitRates (0.9).\n",
    "ProductRelated & ProductRelated_Duration (0.9)."
   ]
  },
  {
   "cell_type": "code",
   "execution_count": 19,
   "id": "55beeab0",
   "metadata": {},
   "outputs": [
    {
     "data": {
      "image/png": "[encoded data removed]",
      "text/plain": [
       "<Figure size 1296x1440 with 10 Axes>"
      ]
     },
     "metadata": {
      "needs_background": "light"
     },
     "output_type": "display_data"
    }
   ],
   "source": [
    "plt.figure(figsize=(18,20))\n",
    "n = 0\n",
    "for i, column in enumerate(X_norm.columns):\n",
    "    n+=1\n",
    "    plt.subplot(4, 4, n)\n",
    "    sns.histplot(x=X_norm[column], hue=df[\"Revenue\"], bins=30)\n",
    "    plt.title('Distribución var {}'.format(column))\n",
    "plt.show()"
   ]
  },
  {
   "cell_type": "markdown",
   "id": "788daa80",
   "metadata": {},
   "source": []
  },
  {
   "cell_type": "markdown",
   "id": "0e18a07f",
   "metadata": {},
   "source": [
    "Las variables no siguen distribuciones normales o Gaussianas a pesar de la normalizacion (tradicionales, algunas de estas sin embargo podrian considerarse asimetricas como vemos en los histograma)\n",
    "Otra conclusion que podemos sacara es que hay mas compras en o cerca a dias espciales\n",
    "Asumismo notamos que a menos bounce rates y exit rates (que indican si el cliente a visitado otras paginas dentro del sitio), mayor cantidad de compras. Esto nos muestra tambien que el sitio tiene por lo general un buen \"engagement\""
   ]
  },
  {
   "cell_type": "markdown",
   "id": "dfa6e2f6",
   "metadata": {},
   "source": [
    "### Procedemos a Analizar los datos categoricos"
   ]
  },
  {
   "cell_type": "code",
   "execution_count": 20,
   "id": "2571c462",
   "metadata": {},
   "outputs": [
    {
     "data": {
      "image/png": "[encoded data removed]",
      "text/plain": [
       "<Figure size 432x288 with 1 Axes>"
      ]
     },
     "metadata": {
      "needs_background": "light"
     },
     "output_type": "display_data"
    }
   ],
   "source": [
    "M = sns.countplot(x='Month', data=df, hue='Revenue')\n"
   ]
  },
  {
   "cell_type": "markdown",
   "id": "9c18936b",
   "metadata": {},
   "source": [
    "Cuando analizamos la cantidad de falsos y verdaderos casos de la variable Revenue se Observa que hay claramente que en los meses donde hay mayor cantidad de festividades/ocaciones especiales (dia de la Mujer, dia de la Madre, Black Friday, Navidad, etc) es cuando hay mayor trafico. Por ende se entiende que un publico altamente estacional."
   ]
  },
  {
   "cell_type": "code",
   "execution_count": 21,
   "id": "1a3d1fe6",
   "metadata": {},
   "outputs": [
    {
     "data": {
      "image/png": "[encoded data removed]",
      "text/plain": [
       "<Figure size 432x288 with 1 Axes>"
      ]
     },
     "metadata": {
      "needs_background": "light"
     },
     "output_type": "display_data"
    }
   ],
   "source": [
    "S = sns.countplot(x='VisitorType', data=df, hue='Revenue')"
   ]
  },
  {
   "cell_type": "markdown",
   "id": "0baeaed5",
   "metadata": {},
   "source": [
    "Observamos tambien que la mayor cantidad de compras se dan en clientes que han retornado. "
   ]
  },
  {
   "cell_type": "code",
   "execution_count": 22,
   "id": "ef495b1b",
   "metadata": {},
   "outputs": [
    {
     "data": {
      "text/html": [
       "<div>\n",
       "<style scoped>\n",
       "    .dataframe tbody tr th:only-of-type {\n",
       "        vertical-align: middle;\n",
       "    }\n",
       "\n",
       "    .dataframe tbody tr th {\n",
       "        vertical-align: top;\n",
       "    }\n",
       "\n",
       "    .dataframe thead th {\n",
       "        text-align: right;\n",
       "    }\n",
       "</style>\n",
       "<table border=\"1\" class=\"dataframe\">\n",
       "  <thead>\n",
       "    <tr style=\"text-align: right;\">\n",
       "      <th>Revenue</th>\n",
       "      <th>False</th>\n",
       "      <th>True</th>\n",
       "      <th>All</th>\n",
       "    </tr>\n",
       "    <tr>\n",
       "      <th>Weekend</th>\n",
       "      <th></th>\n",
       "      <th></th>\n",
       "      <th></th>\n",
       "    </tr>\n",
       "  </thead>\n",
       "  <tbody>\n",
       "    <tr>\n",
       "      <th>False</th>\n",
       "      <td>8053</td>\n",
       "      <td>1409</td>\n",
       "      <td>9462</td>\n",
       "    </tr>\n",
       "    <tr>\n",
       "      <th>True</th>\n",
       "      <td>2369</td>\n",
       "      <td>499</td>\n",
       "      <td>2868</td>\n",
       "    </tr>\n",
       "    <tr>\n",
       "      <th>All</th>\n",
       "      <td>10422</td>\n",
       "      <td>1908</td>\n",
       "      <td>12330</td>\n",
       "    </tr>\n",
       "  </tbody>\n",
       "</table>\n",
       "</div>"
      ],
      "text/plain": [
       "Revenue  False  True    All\n",
       "Weekend                    \n",
       "False     8053  1409   9462\n",
       "True      2369   499   2868\n",
       "All      10422  1908  12330"
      ]
     },
     "execution_count": 22,
     "metadata": {},
     "output_type": "execute_result"
    }
   ],
   "source": [
    "#Analizamos ahora los datos de la variable Weeend\n",
    "pd.crosstab(df['Weekend'],df['Revenue'], margins=True)"
   ]
  },
  {
   "cell_type": "markdown",
   "id": "57bb16b1",
   "metadata": {},
   "source": [
    "A primera vista se puede observar que las actividades durante el fin de semana, del total 1908 visitas que resultaron en revenue 26,15% suceden en el fin de semana y el 73,85% entre semana, lo que no implica una gran diferencia. Sin embargo si observamos el total de trafico se observa que de 9451 usuarios entre semana generaron 14,90% vs 2865 el fin de semana que generaron 17,41% de revenue."
   ]
  },
  {
   "cell_type": "markdown",
   "id": "4efd29bf",
   "metadata": {},
   "source": [
    "## Procesamiento de datos"
   ]
  },
  {
   "cell_type": "code",
   "execution_count": 23,
   "id": "f72a2472",
   "metadata": {},
   "outputs": [
    {
     "data": {
      "text/plain": [
       "Administrative             14\n",
       "Administrative_Duration    14\n",
       "Informational              14\n",
       "Informational_Duration     14\n",
       "ProductRelated             14\n",
       "ProductRelated_Duration    14\n",
       "BounceRates                14\n",
       "ExitRates                  14\n",
       "PageValues                  0\n",
       "SpecialDay                  0\n",
       "Month                       0\n",
       "OperatingSystems            0\n",
       "Browser                     0\n",
       "Region                      0\n",
       "TrafficType                 0\n",
       "VisitorType                 0\n",
       "Weekend                     0\n",
       "Revenue                     0\n",
       "dtype: int64"
      ]
     },
     "execution_count": 23,
     "metadata": {},
     "output_type": "execute_result"
    }
   ],
   "source": [
    "#Tratamiento de nulos\n",
    "df.isnull().sum()"
   ]
  },
  {
   "cell_type": "code",
   "execution_count": 24,
   "id": "2bd2554e",
   "metadata": {},
   "outputs": [],
   "source": [
    "#eliminamos las lineas que tienen valores nullos ya que no representan una relevancia importante dentro las 12k lineas existentes.\n",
    "df = df.dropna(axis=0)"
   ]
  },
  {
   "cell_type": "code",
   "execution_count": 25,
   "id": "89b5fb00",
   "metadata": {},
   "outputs": [
    {
     "data": {
      "text/html": [
       "<div>\n",
       "<style scoped>\n",
       "    .dataframe tbody tr th:only-of-type {\n",
       "        vertical-align: middle;\n",
       "    }\n",
       "\n",
       "    .dataframe tbody tr th {\n",
       "        vertical-align: top;\n",
       "    }\n",
       "\n",
       "    .dataframe thead th {\n",
       "        text-align: right;\n",
       "    }\n",
       "</style>\n",
       "<table border=\"1\" class=\"dataframe\">\n",
       "  <thead>\n",
       "    <tr style=\"text-align: right;\">\n",
       "      <th></th>\n",
       "      <th>Administrative</th>\n",
       "      <th>Administrative_Duration</th>\n",
       "      <th>Informational</th>\n",
       "      <th>Informational_Duration</th>\n",
       "      <th>ProductRelated</th>\n",
       "      <th>ProductRelated_Duration</th>\n",
       "      <th>BounceRates</th>\n",
       "      <th>ExitRates</th>\n",
       "      <th>PageValues</th>\n",
       "      <th>SpecialDay</th>\n",
       "      <th>Month</th>\n",
       "      <th>OperatingSystems</th>\n",
       "      <th>Browser</th>\n",
       "      <th>Region</th>\n",
       "      <th>TrafficType</th>\n",
       "      <th>VisitorType</th>\n",
       "      <th>Weekend</th>\n",
       "      <th>Revenue</th>\n",
       "    </tr>\n",
       "  </thead>\n",
       "  <tbody>\n",
       "    <tr>\n",
       "      <th>0</th>\n",
       "      <td>0.0</td>\n",
       "      <td>0.0</td>\n",
       "      <td>0.0</td>\n",
       "      <td>0.0</td>\n",
       "      <td>1.0</td>\n",
       "      <td>0.000000</td>\n",
       "      <td>0.20</td>\n",
       "      <td>0.20</td>\n",
       "      <td>0.0</td>\n",
       "      <td>0.0</td>\n",
       "      <td>Feb</td>\n",
       "      <td>1</td>\n",
       "      <td>1</td>\n",
       "      <td>1</td>\n",
       "      <td>1</td>\n",
       "      <td>Returning_Visitor</td>\n",
       "      <td>0</td>\n",
       "      <td>0</td>\n",
       "    </tr>\n",
       "    <tr>\n",
       "      <th>1</th>\n",
       "      <td>0.0</td>\n",
       "      <td>0.0</td>\n",
       "      <td>0.0</td>\n",
       "      <td>0.0</td>\n",
       "      <td>2.0</td>\n",
       "      <td>64.000000</td>\n",
       "      <td>0.00</td>\n",
       "      <td>0.10</td>\n",
       "      <td>0.0</td>\n",
       "      <td>0.0</td>\n",
       "      <td>Feb</td>\n",
       "      <td>2</td>\n",
       "      <td>2</td>\n",
       "      <td>1</td>\n",
       "      <td>2</td>\n",
       "      <td>Returning_Visitor</td>\n",
       "      <td>0</td>\n",
       "      <td>0</td>\n",
       "    </tr>\n",
       "    <tr>\n",
       "      <th>2</th>\n",
       "      <td>0.0</td>\n",
       "      <td>-1.0</td>\n",
       "      <td>0.0</td>\n",
       "      <td>-1.0</td>\n",
       "      <td>1.0</td>\n",
       "      <td>-1.000000</td>\n",
       "      <td>0.20</td>\n",
       "      <td>0.20</td>\n",
       "      <td>0.0</td>\n",
       "      <td>0.0</td>\n",
       "      <td>Feb</td>\n",
       "      <td>4</td>\n",
       "      <td>1</td>\n",
       "      <td>9</td>\n",
       "      <td>3</td>\n",
       "      <td>Returning_Visitor</td>\n",
       "      <td>0</td>\n",
       "      <td>0</td>\n",
       "    </tr>\n",
       "    <tr>\n",
       "      <th>3</th>\n",
       "      <td>0.0</td>\n",
       "      <td>0.0</td>\n",
       "      <td>0.0</td>\n",
       "      <td>0.0</td>\n",
       "      <td>2.0</td>\n",
       "      <td>2.666667</td>\n",
       "      <td>0.05</td>\n",
       "      <td>0.14</td>\n",
       "      <td>0.0</td>\n",
       "      <td>0.0</td>\n",
       "      <td>Feb</td>\n",
       "      <td>3</td>\n",
       "      <td>2</td>\n",
       "      <td>2</td>\n",
       "      <td>4</td>\n",
       "      <td>Returning_Visitor</td>\n",
       "      <td>0</td>\n",
       "      <td>0</td>\n",
       "    </tr>\n",
       "    <tr>\n",
       "      <th>4</th>\n",
       "      <td>0.0</td>\n",
       "      <td>0.0</td>\n",
       "      <td>0.0</td>\n",
       "      <td>0.0</td>\n",
       "      <td>10.0</td>\n",
       "      <td>627.500000</td>\n",
       "      <td>0.02</td>\n",
       "      <td>0.05</td>\n",
       "      <td>0.0</td>\n",
       "      <td>0.0</td>\n",
       "      <td>Feb</td>\n",
       "      <td>3</td>\n",
       "      <td>3</td>\n",
       "      <td>1</td>\n",
       "      <td>4</td>\n",
       "      <td>Returning_Visitor</td>\n",
       "      <td>1</td>\n",
       "      <td>0</td>\n",
       "    </tr>\n",
       "  </tbody>\n",
       "</table>\n",
       "</div>"
      ],
      "text/plain": [
       "   Administrative  Administrative_Duration  Informational  \\\n",
       "0             0.0                      0.0            0.0   \n",
       "1             0.0                      0.0            0.0   \n",
       "2             0.0                     -1.0            0.0   \n",
       "3             0.0                      0.0            0.0   \n",
       "4             0.0                      0.0            0.0   \n",
       "\n",
       "   Informational_Duration  ProductRelated  ProductRelated_Duration  \\\n",
       "0                     0.0             1.0                 0.000000   \n",
       "1                     0.0             2.0                64.000000   \n",
       "2                    -1.0             1.0                -1.000000   \n",
       "3                     0.0             2.0                 2.666667   \n",
       "4                     0.0            10.0               627.500000   \n",
       "\n",
       "   BounceRates  ExitRates  PageValues  SpecialDay Month OperatingSystems  \\\n",
       "0         0.20       0.20         0.0         0.0   Feb                1   \n",
       "1         0.00       0.10         0.0         0.0   Feb                2   \n",
       "2         0.20       0.20         0.0         0.0   Feb                4   \n",
       "3         0.05       0.14         0.0         0.0   Feb                3   \n",
       "4         0.02       0.05         0.0         0.0   Feb                3   \n",
       "\n",
       "  Browser Region TrafficType        VisitorType  Weekend  Revenue  \n",
       "0       1      1           1  Returning_Visitor        0        0  \n",
       "1       2      1           2  Returning_Visitor        0        0  \n",
       "2       1      9           3  Returning_Visitor        0        0  \n",
       "3       2      2           4  Returning_Visitor        0        0  \n",
       "4       3      1           4  Returning_Visitor        1        0  "
      ]
     },
     "execution_count": 25,
     "metadata": {},
     "output_type": "execute_result"
    }
   ],
   "source": [
    "#convertimos los datos booleanos en 1 y 0 para facilitar el analisis\n",
    "bool_map={True:1,False:0}\n",
    "df.Weekend.replace(bool_map,inplace=True)\n",
    "df.Revenue.replace(bool_map,inplace=True)\n",
    "df.head()"
   ]
  },
  {
   "cell_type": "code",
   "execution_count": 26,
   "id": "de303e47",
   "metadata": {},
   "outputs": [
    {
     "data": {
      "text/html": [
       "<div>\n",
       "<style scoped>\n",
       "    .dataframe tbody tr th:only-of-type {\n",
       "        vertical-align: middle;\n",
       "    }\n",
       "\n",
       "    .dataframe tbody tr th {\n",
       "        vertical-align: top;\n",
       "    }\n",
       "\n",
       "    .dataframe thead th {\n",
       "        text-align: right;\n",
       "    }\n",
       "</style>\n",
       "<table border=\"1\" class=\"dataframe\">\n",
       "  <thead>\n",
       "    <tr style=\"text-align: right;\">\n",
       "      <th></th>\n",
       "      <th>Administrative</th>\n",
       "      <th>Administrative_Duration</th>\n",
       "      <th>Informational</th>\n",
       "      <th>Informational_Duration</th>\n",
       "      <th>ProductRelated</th>\n",
       "      <th>ProductRelated_Duration</th>\n",
       "      <th>BounceRates</th>\n",
       "      <th>ExitRates</th>\n",
       "      <th>PageValues</th>\n",
       "      <th>SpecialDay</th>\n",
       "      <th>Month</th>\n",
       "      <th>OperatingSystems</th>\n",
       "      <th>Browser</th>\n",
       "      <th>Region</th>\n",
       "      <th>TrafficType</th>\n",
       "      <th>VisitorType</th>\n",
       "      <th>Weekend</th>\n",
       "      <th>Revenue</th>\n",
       "      <th>Brownser</th>\n",
       "    </tr>\n",
       "  </thead>\n",
       "  <tbody>\n",
       "    <tr>\n",
       "      <th>0</th>\n",
       "      <td>0.0</td>\n",
       "      <td>0.0</td>\n",
       "      <td>0.0</td>\n",
       "      <td>0.0</td>\n",
       "      <td>1.0</td>\n",
       "      <td>0.000000</td>\n",
       "      <td>0.20</td>\n",
       "      <td>0.20</td>\n",
       "      <td>0.0</td>\n",
       "      <td>0.0</td>\n",
       "      <td>2</td>\n",
       "      <td>0</td>\n",
       "      <td>1</td>\n",
       "      <td>0</td>\n",
       "      <td>0</td>\n",
       "      <td>2</td>\n",
       "      <td>0</td>\n",
       "      <td>0</td>\n",
       "      <td>0</td>\n",
       "    </tr>\n",
       "    <tr>\n",
       "      <th>1</th>\n",
       "      <td>0.0</td>\n",
       "      <td>0.0</td>\n",
       "      <td>0.0</td>\n",
       "      <td>0.0</td>\n",
       "      <td>2.0</td>\n",
       "      <td>64.000000</td>\n",
       "      <td>0.00</td>\n",
       "      <td>0.10</td>\n",
       "      <td>0.0</td>\n",
       "      <td>0.0</td>\n",
       "      <td>2</td>\n",
       "      <td>1</td>\n",
       "      <td>2</td>\n",
       "      <td>0</td>\n",
       "      <td>1</td>\n",
       "      <td>2</td>\n",
       "      <td>0</td>\n",
       "      <td>0</td>\n",
       "      <td>1</td>\n",
       "    </tr>\n",
       "    <tr>\n",
       "      <th>2</th>\n",
       "      <td>0.0</td>\n",
       "      <td>-1.0</td>\n",
       "      <td>0.0</td>\n",
       "      <td>-1.0</td>\n",
       "      <td>1.0</td>\n",
       "      <td>-1.000000</td>\n",
       "      <td>0.20</td>\n",
       "      <td>0.20</td>\n",
       "      <td>0.0</td>\n",
       "      <td>0.0</td>\n",
       "      <td>2</td>\n",
       "      <td>3</td>\n",
       "      <td>1</td>\n",
       "      <td>8</td>\n",
       "      <td>2</td>\n",
       "      <td>2</td>\n",
       "      <td>0</td>\n",
       "      <td>0</td>\n",
       "      <td>0</td>\n",
       "    </tr>\n",
       "    <tr>\n",
       "      <th>3</th>\n",
       "      <td>0.0</td>\n",
       "      <td>0.0</td>\n",
       "      <td>0.0</td>\n",
       "      <td>0.0</td>\n",
       "      <td>2.0</td>\n",
       "      <td>2.666667</td>\n",
       "      <td>0.05</td>\n",
       "      <td>0.14</td>\n",
       "      <td>0.0</td>\n",
       "      <td>0.0</td>\n",
       "      <td>2</td>\n",
       "      <td>2</td>\n",
       "      <td>2</td>\n",
       "      <td>1</td>\n",
       "      <td>3</td>\n",
       "      <td>2</td>\n",
       "      <td>0</td>\n",
       "      <td>0</td>\n",
       "      <td>1</td>\n",
       "    </tr>\n",
       "    <tr>\n",
       "      <th>4</th>\n",
       "      <td>0.0</td>\n",
       "      <td>0.0</td>\n",
       "      <td>0.0</td>\n",
       "      <td>0.0</td>\n",
       "      <td>10.0</td>\n",
       "      <td>627.500000</td>\n",
       "      <td>0.02</td>\n",
       "      <td>0.05</td>\n",
       "      <td>0.0</td>\n",
       "      <td>0.0</td>\n",
       "      <td>2</td>\n",
       "      <td>2</td>\n",
       "      <td>3</td>\n",
       "      <td>0</td>\n",
       "      <td>3</td>\n",
       "      <td>2</td>\n",
       "      <td>1</td>\n",
       "      <td>0</td>\n",
       "      <td>2</td>\n",
       "    </tr>\n",
       "  </tbody>\n",
       "</table>\n",
       "</div>"
      ],
      "text/plain": [
       "   Administrative  Administrative_Duration  Informational  \\\n",
       "0             0.0                      0.0            0.0   \n",
       "1             0.0                      0.0            0.0   \n",
       "2             0.0                     -1.0            0.0   \n",
       "3             0.0                      0.0            0.0   \n",
       "4             0.0                      0.0            0.0   \n",
       "\n",
       "   Informational_Duration  ProductRelated  ProductRelated_Duration  \\\n",
       "0                     0.0             1.0                 0.000000   \n",
       "1                     0.0             2.0                64.000000   \n",
       "2                    -1.0             1.0                -1.000000   \n",
       "3                     0.0             2.0                 2.666667   \n",
       "4                     0.0            10.0               627.500000   \n",
       "\n",
       "   BounceRates  ExitRates  PageValues  SpecialDay  Month  OperatingSystems  \\\n",
       "0         0.20       0.20         0.0         0.0      2                 0   \n",
       "1         0.00       0.10         0.0         0.0      2                 1   \n",
       "2         0.20       0.20         0.0         0.0      2                 3   \n",
       "3         0.05       0.14         0.0         0.0      2                 2   \n",
       "4         0.02       0.05         0.0         0.0      2                 2   \n",
       "\n",
       "  Browser  Region  TrafficType  VisitorType  Weekend  Revenue  Brownser  \n",
       "0       1       0            0            2        0        0         0  \n",
       "1       2       0            1            2        0        0         1  \n",
       "2       1       8            2            2        0        0         0  \n",
       "3       2       1            3            2        0        0         1  \n",
       "4       3       0            3            2        1        0         2  "
      ]
     },
     "execution_count": 26,
     "metadata": {},
     "output_type": "execute_result"
    }
   ],
   "source": [
    "#Aplicamos hot encoding para numerizar las variables categoricas. Ya que multiples modelos necesitaran transformaciones correspondientes \n",
    "# creamos la instancia del labelencoder\n",
    "le = preprocessing.LabelEncoder()\n",
    "df_encoded = df.copy()\n",
    "df_encoded['Month']= le.fit_transform(df_encoded['Month'])\n",
    "df_encoded['VisitorType']= le.fit_transform(df_encoded['VisitorType'])\n",
    "df_encoded['OperatingSystems']= le.fit_transform(df_encoded['OperatingSystems'])\n",
    "df_encoded['Brownser']= le.fit_transform(df_encoded['Browser'])\n",
    "df_encoded['Region']= le.fit_transform(df_encoded['Region'])\n",
    "df_encoded['TrafficType']= le.fit_transform(df_encoded['TrafficType'])\n",
    "df_encoded.head()"
   ]
  },
  {
   "cell_type": "code",
   "execution_count": 27,
   "id": "fcb10c44",
   "metadata": {},
   "outputs": [
    {
     "name": "stdout",
     "output_type": "stream",
     "text": [
      "<class 'pandas.core.frame.DataFrame'>\n",
      "Int64Index: 12316 entries, 0 to 12329\n",
      "Data columns (total 19 columns):\n",
      " #   Column                   Non-Null Count  Dtype   \n",
      "---  ------                   --------------  -----   \n",
      " 0   Administrative           12316 non-null  float64 \n",
      " 1   Administrative_Duration  12316 non-null  float64 \n",
      " 2   Informational            12316 non-null  float64 \n",
      " 3   Informational_Duration   12316 non-null  float64 \n",
      " 4   ProductRelated           12316 non-null  float64 \n",
      " 5   ProductRelated_Duration  12316 non-null  float64 \n",
      " 6   BounceRates              12316 non-null  float64 \n",
      " 7   ExitRates                12316 non-null  float64 \n",
      " 8   PageValues               12316 non-null  float64 \n",
      " 9   SpecialDay               12316 non-null  float64 \n",
      " 10  Month                    12316 non-null  int32   \n",
      " 11  OperatingSystems         12316 non-null  int64   \n",
      " 12  Browser                  12316 non-null  category\n",
      " 13  Region                   12316 non-null  int64   \n",
      " 14  TrafficType              12316 non-null  int64   \n",
      " 15  VisitorType              12316 non-null  int32   \n",
      " 16  Weekend                  12316 non-null  int64   \n",
      " 17  Revenue                  12316 non-null  int64   \n",
      " 18  Brownser                 12316 non-null  int64   \n",
      "dtypes: category(1), float64(10), int32(2), int64(6)\n",
      "memory usage: 1.7 MB\n"
     ]
    }
   ],
   "source": [
    "df_encoded.info()"
   ]
  },
  {
   "cell_type": "code",
   "execution_count": 28,
   "id": "5369cdaf",
   "metadata": {},
   "outputs": [],
   "source": [
    "df_encoded['Browser'] = df_encoded['Browser'].astype('int')"
   ]
  },
  {
   "cell_type": "code",
   "execution_count": 29,
   "id": "272fdd2c",
   "metadata": {},
   "outputs": [
    {
     "ename": "NameError",
     "evalue": "name 'X' is not defined",
     "output_type": "error",
     "traceback": [
      "\u001b[1;31m---------------------------------------------------------------------------\u001b[0m",
      "\u001b[1;31mNameError\u001b[0m                                 Traceback (most recent call last)",
      "\u001b[1;32m~\\AppData\\Local\\Temp/ipykernel_23020/1103094325.py\u001b[0m in \u001b[0;36m<module>\u001b[1;34m\u001b[0m\n\u001b[0;32m      3\u001b[0m \u001b[0mX_num\u001b[0m \u001b[1;33m=\u001b[0m \u001b[0mdf_encoded\u001b[0m\u001b[1;33m.\u001b[0m\u001b[0mselect_dtypes\u001b[0m\u001b[1;33m(\u001b[0m\u001b[0minclude\u001b[0m\u001b[1;33m=\u001b[0m\u001b[1;33m[\u001b[0m\u001b[0mfloat\u001b[0m\u001b[1;33m]\u001b[0m\u001b[1;33m)\u001b[0m\u001b[1;33m\u001b[0m\u001b[1;33m\u001b[0m\u001b[0m\n\u001b[0;32m      4\u001b[0m \u001b[0mX_dum\u001b[0m \u001b[1;33m=\u001b[0m \u001b[0mpd\u001b[0m\u001b[1;33m.\u001b[0m\u001b[0mDataFrame\u001b[0m\u001b[1;33m(\u001b[0m\u001b[0mdata\u001b[0m\u001b[1;33m=\u001b[0m\u001b[0mdf_encoded\u001b[0m\u001b[1;33m)\u001b[0m\u001b[1;33m\u001b[0m\u001b[1;33m\u001b[0m\u001b[0m\n\u001b[1;32m----> 5\u001b[1;33m \u001b[1;32mfor\u001b[0m \u001b[0mcolumn\u001b[0m \u001b[1;32min\u001b[0m \u001b[0mX\u001b[0m\u001b[1;33m[\u001b[0m\u001b[0mX_num\u001b[0m\u001b[1;33m]\u001b[0m\u001b[1;33m:\u001b[0m\u001b[1;33m\u001b[0m\u001b[1;33m\u001b[0m\u001b[0m\n\u001b[0m\u001b[0;32m      6\u001b[0m     \u001b[1;32mif\u001b[0m \u001b[0mcolumn\u001b[0m \u001b[1;33m!=\u001b[0m \u001b[1;34m'SpecialDay'\u001b[0m \u001b[1;32mor\u001b[0m \u001b[0mcolumn\u001b[0m \u001b[1;33m!=\u001b[0m \u001b[1;34m'Informational'\u001b[0m \u001b[1;32mor\u001b[0m \u001b[0mcolumn\u001b[0m \u001b[1;33m!=\u001b[0m \u001b[1;34m'Informational_Duration'\u001b[0m \u001b[1;32mor\u001b[0m \u001b[0mcolumn\u001b[0m \u001b[1;33m!=\u001b[0m \u001b[1;34m'PageValues'\u001b[0m\u001b[1;33m:\u001b[0m\u001b[1;33m\u001b[0m\u001b[1;33m\u001b[0m\u001b[0m\n\u001b[0;32m      7\u001b[0m         \u001b[0mq1\u001b[0m \u001b[1;33m=\u001b[0m \u001b[0mX\u001b[0m\u001b[1;33m[\u001b[0m\u001b[0mcolumn\u001b[0m\u001b[1;33m]\u001b[0m\u001b[1;33m.\u001b[0m\u001b[0mquantile\u001b[0m\u001b[1;33m(\u001b[0m\u001b[1;36m0.25\u001b[0m\u001b[1;33m)\u001b[0m\u001b[1;33m\u001b[0m\u001b[1;33m\u001b[0m\u001b[0m\n",
      "\u001b[1;31mNameError\u001b[0m: name 'X' is not defined"
     ]
    }
   ],
   "source": [
    "#tratamos los outliners que habiamos identificado anteriormente. \n",
    "#EN el caso de las columnas con valores 0.00 como limites bajos y altos, no los ajustaremos.\n",
    "X_num = df_encoded.select_dtypes(include=[float])\n",
    "X_dum = pd.DataFrame(data=df_encoded)\n",
    "for column in X[X_num]:\n",
    "    if column != 'SpecialDay' or column != 'Informational' or column != 'Informational_Duration' or column != 'PageValues':\n",
    "        q1 = X[column].quantile(0.25)\n",
    "        q3 = X[column].quantile(0.75)\n",
    "        iqr = q3-q1\n",
    "        cut_off = iqr * 1.5\n",
    "        lower, upper = q1 - cut_off, q3 + cut_off\n",
    "        print(column, lower, upper) \n",
    "        newcolumn_name = column + '_iscl'\n",
    "        if iqr >0:\n",
    "            X[newcolumn_name] = np.where(X[column] < lower, X[column], lower)\n",
    "        else:\n",
    "            X[newcolumn_name] = np.where(X[column] > upper, X[column], upper)\n",
    "    else:\n",
    "        pass   \n"
   ]
  },
  {
   "cell_type": "code",
   "execution_count": 30,
   "id": "622b9f54",
   "metadata": {},
   "outputs": [],
   "source": [
    "#separamos nuestras muestras entre las variables y nuestro target\n",
    "y = X_dum['Revenue']\n",
    "X = X_dum.drop(['Revenue'],axis=1)\n",
    "               #,'Administrative', 'Administrative_Duration', 'Informational','ProductRelated','ProductRelated_Duration','ProductRelated_Duration','BounceRates','ExitRates','Informational_Duration', 'PageValues', 'SpecialDay'], axis=1)"
   ]
  },
  {
   "cell_type": "code",
   "execution_count": 31,
   "id": "27c2c2a5",
   "metadata": {},
   "outputs": [
    {
     "data": {
      "text/html": [
       "<div>\n",
       "<style scoped>\n",
       "    .dataframe tbody tr th:only-of-type {\n",
       "        vertical-align: middle;\n",
       "    }\n",
       "\n",
       "    .dataframe tbody tr th {\n",
       "        vertical-align: top;\n",
       "    }\n",
       "\n",
       "    .dataframe thead th {\n",
       "        text-align: right;\n",
       "    }\n",
       "</style>\n",
       "<table border=\"1\" class=\"dataframe\">\n",
       "  <thead>\n",
       "    <tr style=\"text-align: right;\">\n",
       "      <th></th>\n",
       "      <th>Administrative</th>\n",
       "      <th>Administrative_Duration</th>\n",
       "      <th>Informational</th>\n",
       "      <th>Informational_Duration</th>\n",
       "      <th>ProductRelated</th>\n",
       "      <th>ProductRelated_Duration</th>\n",
       "      <th>BounceRates</th>\n",
       "      <th>ExitRates</th>\n",
       "      <th>PageValues</th>\n",
       "      <th>SpecialDay</th>\n",
       "      <th>Month</th>\n",
       "      <th>OperatingSystems</th>\n",
       "      <th>Browser</th>\n",
       "      <th>Region</th>\n",
       "      <th>TrafficType</th>\n",
       "      <th>VisitorType</th>\n",
       "      <th>Weekend</th>\n",
       "      <th>Brownser</th>\n",
       "    </tr>\n",
       "  </thead>\n",
       "  <tbody>\n",
       "    <tr>\n",
       "      <th>0</th>\n",
       "      <td>0.0</td>\n",
       "      <td>0.0</td>\n",
       "      <td>0.0</td>\n",
       "      <td>0.0</td>\n",
       "      <td>1.0</td>\n",
       "      <td>0.000000</td>\n",
       "      <td>0.20</td>\n",
       "      <td>0.20</td>\n",
       "      <td>0.0</td>\n",
       "      <td>0.0</td>\n",
       "      <td>2</td>\n",
       "      <td>0</td>\n",
       "      <td>1</td>\n",
       "      <td>0</td>\n",
       "      <td>0</td>\n",
       "      <td>2</td>\n",
       "      <td>0</td>\n",
       "      <td>0</td>\n",
       "    </tr>\n",
       "    <tr>\n",
       "      <th>1</th>\n",
       "      <td>0.0</td>\n",
       "      <td>0.0</td>\n",
       "      <td>0.0</td>\n",
       "      <td>0.0</td>\n",
       "      <td>2.0</td>\n",
       "      <td>64.000000</td>\n",
       "      <td>0.00</td>\n",
       "      <td>0.10</td>\n",
       "      <td>0.0</td>\n",
       "      <td>0.0</td>\n",
       "      <td>2</td>\n",
       "      <td>1</td>\n",
       "      <td>2</td>\n",
       "      <td>0</td>\n",
       "      <td>1</td>\n",
       "      <td>2</td>\n",
       "      <td>0</td>\n",
       "      <td>1</td>\n",
       "    </tr>\n",
       "    <tr>\n",
       "      <th>2</th>\n",
       "      <td>0.0</td>\n",
       "      <td>-1.0</td>\n",
       "      <td>0.0</td>\n",
       "      <td>-1.0</td>\n",
       "      <td>1.0</td>\n",
       "      <td>-1.000000</td>\n",
       "      <td>0.20</td>\n",
       "      <td>0.20</td>\n",
       "      <td>0.0</td>\n",
       "      <td>0.0</td>\n",
       "      <td>2</td>\n",
       "      <td>3</td>\n",
       "      <td>1</td>\n",
       "      <td>8</td>\n",
       "      <td>2</td>\n",
       "      <td>2</td>\n",
       "      <td>0</td>\n",
       "      <td>0</td>\n",
       "    </tr>\n",
       "    <tr>\n",
       "      <th>3</th>\n",
       "      <td>0.0</td>\n",
       "      <td>0.0</td>\n",
       "      <td>0.0</td>\n",
       "      <td>0.0</td>\n",
       "      <td>2.0</td>\n",
       "      <td>2.666667</td>\n",
       "      <td>0.05</td>\n",
       "      <td>0.14</td>\n",
       "      <td>0.0</td>\n",
       "      <td>0.0</td>\n",
       "      <td>2</td>\n",
       "      <td>2</td>\n",
       "      <td>2</td>\n",
       "      <td>1</td>\n",
       "      <td>3</td>\n",
       "      <td>2</td>\n",
       "      <td>0</td>\n",
       "      <td>1</td>\n",
       "    </tr>\n",
       "    <tr>\n",
       "      <th>4</th>\n",
       "      <td>0.0</td>\n",
       "      <td>0.0</td>\n",
       "      <td>0.0</td>\n",
       "      <td>0.0</td>\n",
       "      <td>10.0</td>\n",
       "      <td>627.500000</td>\n",
       "      <td>0.02</td>\n",
       "      <td>0.05</td>\n",
       "      <td>0.0</td>\n",
       "      <td>0.0</td>\n",
       "      <td>2</td>\n",
       "      <td>2</td>\n",
       "      <td>3</td>\n",
       "      <td>0</td>\n",
       "      <td>3</td>\n",
       "      <td>2</td>\n",
       "      <td>1</td>\n",
       "      <td>2</td>\n",
       "    </tr>\n",
       "  </tbody>\n",
       "</table>\n",
       "</div>"
      ],
      "text/plain": [
       "   Administrative  Administrative_Duration  Informational  \\\n",
       "0             0.0                      0.0            0.0   \n",
       "1             0.0                      0.0            0.0   \n",
       "2             0.0                     -1.0            0.0   \n",
       "3             0.0                      0.0            0.0   \n",
       "4             0.0                      0.0            0.0   \n",
       "\n",
       "   Informational_Duration  ProductRelated  ProductRelated_Duration  \\\n",
       "0                     0.0             1.0                 0.000000   \n",
       "1                     0.0             2.0                64.000000   \n",
       "2                    -1.0             1.0                -1.000000   \n",
       "3                     0.0             2.0                 2.666667   \n",
       "4                     0.0            10.0               627.500000   \n",
       "\n",
       "   BounceRates  ExitRates  PageValues  SpecialDay  Month  OperatingSystems  \\\n",
       "0         0.20       0.20         0.0         0.0      2                 0   \n",
       "1         0.00       0.10         0.0         0.0      2                 1   \n",
       "2         0.20       0.20         0.0         0.0      2                 3   \n",
       "3         0.05       0.14         0.0         0.0      2                 2   \n",
       "4         0.02       0.05         0.0         0.0      2                 2   \n",
       "\n",
       "   Browser  Region  TrafficType  VisitorType  Weekend  Brownser  \n",
       "0        1       0            0            2        0         0  \n",
       "1        2       0            1            2        0         1  \n",
       "2        1       8            2            2        0         0  \n",
       "3        2       1            3            2        0         1  \n",
       "4        3       0            3            2        1         2  "
      ]
     },
     "execution_count": 31,
     "metadata": {},
     "output_type": "execute_result"
    }
   ],
   "source": [
    "#De esta manera nos quedan los datos\n",
    "X.head()"
   ]
  },
  {
   "cell_type": "code",
   "execution_count": 32,
   "id": "8d909f02",
   "metadata": {},
   "outputs": [],
   "source": [
    "#separamos la data en distintos subsets\n",
    "X_train, X_valtest, y_train, y_valtest = train_test_split(X, y, test_size=0.3, random_state=101)\n",
    "X_val, X_test, y_val, y_test = train_test_split(X_valtest, y_valtest, test_size=0.5, random_state=101)"
   ]
  },
  {
   "cell_type": "code",
   "execution_count": 33,
   "id": "e30039c4",
   "metadata": {},
   "outputs": [],
   "source": [
    "#Procedemos con escalar los valores como forma de estandardizacion para la realizacion de algunos de nuestros modelos\n",
    "sc_X = StandardScaler()\n",
    "Xsc_train = sc_X.fit_transform(X_train)\n",
    "Xsc_val = sc_X.fit_transform(X_val)\n",
    "Xsc_test = sc_X.fit_transform(X_test)"
   ]
  },
  {
   "cell_type": "code",
   "execution_count": null,
   "id": "db6b28a4",
   "metadata": {},
   "outputs": [],
   "source": []
  },
  {
   "cell_type": "markdown",
   "id": "885cb96a",
   "metadata": {},
   "source": [
    "## Construccion del Modelo"
   ]
  },
  {
   "cell_type": "markdown",
   "id": "8920b184",
   "metadata": {},
   "source": [
    "### Modelo 1 Regresion Logistica"
   ]
  },
  {
   "cell_type": "markdown",
   "id": "388c4797",
   "metadata": {},
   "source": [
    "### Aplicamos el modelo por defecto"
   ]
  },
  {
   "cell_type": "code",
   "execution_count": 34,
   "id": "4e738027",
   "metadata": {},
   "outputs": [
    {
     "name": "stdout",
     "output_type": "stream",
     "text": [
      "Resultados de la Regresion Logistica:\n",
      "Exactitud       :  0.8770979967514889\n",
      "F1 Score        :  0.4805491990846682\n",
      "Precision       :  0.7835820895522388\n",
      "Recall          :  0.3465346534653465\n",
      "Matrix de Confusion:\n",
      "  [[1515   29]\n",
      " [ 198  105]]\n"
     ]
    }
   ],
   "source": [
    "lrm = LogisticRegression()\n",
    "lrm.fit(Xsc_train,y_train)\n",
    "lrm_pred = lrm.predict(Xsc_val)\n",
    "\n",
    "print('Resultados de la Regresion Logistica:')\n",
    "print('Exactitud       : ', metrics.accuracy_score(y_val, lrm_pred))\n",
    "print('F1 Score        : ', metrics.f1_score(y_val, lrm_pred))\n",
    "print('Precision       : ', metrics.precision_score(y_val, lrm_pred))\n",
    "print('Recall          : ', metrics.recall_score(y_val, lrm_pred))\n",
    "print('Matrix de Confusion:\\n ', confusion_matrix(y_val, lrm_pred))"
   ]
  },
  {
   "cell_type": "markdown",
   "id": "7b59a089",
   "metadata": {},
   "source": [
    "El nivel de exactitud ya nos indica un buen resultado 87.7%. La precision, que se calcula dividiendo los verdaderos positivos con los valores que fueron parte de la prediccion positiva, nos indica en este caso un alto nivel de precision al 78%\n",
    "Recall se calcula dividiento los verdaderos positivos con cualquier valor que tuvo que haberse predicho como positivo, para la obtencion de mejores resultados estos valores tienen que estar en balance, y el F1 score no demuestra que no sucede. \n",
    "El F1 score combina los valores de precision y recall en una metrica calculando la media armonica."
   ]
  },
  {
   "cell_type": "code",
   "execution_count": 35,
   "id": "ca20801e",
   "metadata": {},
   "outputs": [
    {
     "data": {
      "image/png": "[encoded data removed]",
      "text/plain": [
       "<Figure size 432x288 with 1 Axes>"
      ]
     },
     "metadata": {
      "needs_background": "light"
     },
     "output_type": "display_data"
    }
   ],
   "source": [
    "#Curva ROC: \n",
    "#definimos las metricas\n",
    "y_lrm_proba = lrm.predict_proba(Xsc_test)[::,1]\n",
    "fpr, tpr, _ = metrics.roc_curve(y_test,  y_lrm_proba)\n",
    "auc_lrm = metrics.roc_auc_score(y_test, y_lrm_proba)\n",
    "\n",
    "#creamos la curva agregando AUC\n",
    "plt.plot(fpr,tpr,label=\"AUC=\"+str(auc_lrm))\n",
    "plt.ylabel('True Positive Rate')\n",
    "plt.xlabel('False Positive Rate')\n",
    "plt.legend(loc=4)\n",
    "plt.show()"
   ]
  },
  {
   "cell_type": "markdown",
   "id": "a7c1fcd0",
   "metadata": {},
   "source": [
    "Esta curva (receiver operating characteristic curve)  es un grafico que muestra el performance de un modelo de clasificacion en todos los umbrales de clasificacion.\n",
    "\n",
    "Normalmente, cuanto la curva mas se acerque a la esquina izqueirda del plot, mejor clasifica los datos en categorias. Y como se observa en la curva, se nota que relativamente este modelo lo hace bien, sin embargo, esto se contradice cuando se obtiene el numero de AUC (cuando AUC=0.5, el clasificador no puede determinar correctamente entre positivos y negativos). Sin Embargo observamos aqui que nuestro AUC es de 86%, lo que no indica que es un clasificador bastate preciso"
   ]
  },
  {
   "cell_type": "markdown",
   "id": "57516e49",
   "metadata": {},
   "source": [
    "### Optimizamos parametros"
   ]
  },
  {
   "cell_type": "markdown",
   "id": "4493a41a",
   "metadata": {},
   "source": [
    "Esto se realiza para intentar encontrar un mejor balance entre precision y recall (F1 score) "
   ]
  },
  {
   "cell_type": "code",
   "execution_count": 112,
   "id": "a25703a8",
   "metadata": {},
   "outputs": [],
   "source": [
    "#utilizamos GridSearch\n",
    "lrm_param_grid = {'C': [0.01, 0.1, 1, 10, 100],  \n",
    "              'solver': ['newton-cg', 'lbfgs', 'sag', 'saga']} \n",
    "lrm_grid = GridSearchCV(LogisticRegression(),\n",
    "                        lrm_param_grid,\n",
    "                        refit=True,\n",
    "                        verbose=3,\n",
    "                        scoring='roc_auc')"
   ]
  },
  {
   "cell_type": "code",
   "execution_count": 113,
   "id": "b0253f32",
   "metadata": {},
   "outputs": [
    {
     "name": "stdout",
     "output_type": "stream",
     "text": [
      "Fitting 5 folds for each of 20 candidates, totalling 100 fits\n",
      "[CV 1/5] END ..........C=0.01, solver=newton-cg;, score=0.868 total time=   0.0s\n",
      "[CV 2/5] END ..........C=0.01, solver=newton-cg;, score=0.902 total time=   0.0s\n",
      "[CV 3/5] END ..........C=0.01, solver=newton-cg;, score=0.894 total time=   0.0s\n",
      "[CV 4/5] END ..........C=0.01, solver=newton-cg;, score=0.894 total time=   0.0s\n",
      "[CV 5/5] END ..........C=0.01, solver=newton-cg;, score=0.865 total time=   0.0s\n",
      "[CV 1/5] END ..............C=0.01, solver=lbfgs;, score=0.868 total time=   0.0s\n",
      "[CV 2/5] END ..............C=0.01, solver=lbfgs;, score=0.902 total time=   0.0s\n",
      "[CV 3/5] END ..............C=0.01, solver=lbfgs;, score=0.894 total time=   0.0s\n",
      "[CV 4/5] END ..............C=0.01, solver=lbfgs;, score=0.894 total time=   0.0s\n",
      "[CV 5/5] END ..............C=0.01, solver=lbfgs;, score=0.865 total time=   0.0s\n",
      "[CV 1/5] END ................C=0.01, solver=sag;, score=0.868 total time=   0.0s\n",
      "[CV 2/5] END ................C=0.01, solver=sag;, score=0.902 total time=   0.0s\n",
      "[CV 3/5] END ................C=0.01, solver=sag;, score=0.894 total time=   0.0s\n",
      "[CV 4/5] END ................C=0.01, solver=sag;, score=0.894 total time=   0.0s\n",
      "[CV 5/5] END ................C=0.01, solver=sag;, score=0.865 total time=   0.0s\n",
      "[CV 1/5] END ...............C=0.01, solver=saga;, score=0.868 total time=   0.0s\n",
      "[CV 2/5] END ...............C=0.01, solver=saga;, score=0.902 total time=   0.0s\n",
      "[CV 3/5] END ...............C=0.01, solver=saga;, score=0.894 total time=   0.0s\n",
      "[CV 4/5] END ...............C=0.01, solver=saga;, score=0.894 total time=   0.0s\n",
      "[CV 5/5] END ...............C=0.01, solver=saga;, score=0.865 total time=   0.0s\n",
      "[CV 1/5] END ...........C=0.1, solver=newton-cg;, score=0.866 total time=   0.0s\n",
      "[CV 2/5] END ...........C=0.1, solver=newton-cg;, score=0.901 total time=   0.0s\n",
      "[CV 3/5] END ...........C=0.1, solver=newton-cg;, score=0.891 total time=   0.0s\n",
      "[CV 4/5] END ...........C=0.1, solver=newton-cg;, score=0.894 total time=   0.0s\n",
      "[CV 5/5] END ...........C=0.1, solver=newton-cg;, score=0.865 total time=   0.0s\n",
      "[CV 1/5] END ...............C=0.1, solver=lbfgs;, score=0.866 total time=   0.0s\n",
      "[CV 2/5] END ...............C=0.1, solver=lbfgs;, score=0.901 total time=   0.0s\n",
      "[CV 3/5] END ...............C=0.1, solver=lbfgs;, score=0.891 total time=   0.0s\n",
      "[CV 4/5] END ...............C=0.1, solver=lbfgs;, score=0.894 total time=   0.0s\n",
      "[CV 5/5] END ...............C=0.1, solver=lbfgs;, score=0.865 total time=   0.0s\n",
      "[CV 1/5] END .................C=0.1, solver=sag;, score=0.866 total time=   0.0s\n",
      "[CV 2/5] END .................C=0.1, solver=sag;, score=0.901 total time=   0.0s\n",
      "[CV 3/5] END .................C=0.1, solver=sag;, score=0.891 total time=   0.0s\n",
      "[CV 4/5] END .................C=0.1, solver=sag;, score=0.894 total time=   0.0s\n",
      "[CV 5/5] END .................C=0.1, solver=sag;, score=0.865 total time=   0.0s\n"
     ]
    },
    {
     "name": "stderr",
     "output_type": "stream",
     "text": [
      "C:\\Users\\GiuliaEl\\Anaconda3\\lib\\site-packages\\sklearn\\linear_model\\_sag.py:328: ConvergenceWarning: The max_iter was reached which means the coef_ did not converge\n",
      "  warnings.warn(\"The max_iter was reached which means \"\n",
      "C:\\Users\\GiuliaEl\\Anaconda3\\lib\\site-packages\\sklearn\\linear_model\\_sag.py:328: ConvergenceWarning: The max_iter was reached which means the coef_ did not converge\n",
      "  warnings.warn(\"The max_iter was reached which means \"\n"
     ]
    },
    {
     "name": "stdout",
     "output_type": "stream",
     "text": [
      "[CV 1/5] END ................C=0.1, solver=saga;, score=0.866 total time=   0.1s\n",
      "[CV 2/5] END ................C=0.1, solver=saga;, score=0.901 total time=   0.1s\n",
      "[CV 3/5] END ................C=0.1, solver=saga;, score=0.891 total time=   0.0s\n"
     ]
    },
    {
     "name": "stderr",
     "output_type": "stream",
     "text": [
      "C:\\Users\\GiuliaEl\\Anaconda3\\lib\\site-packages\\sklearn\\linear_model\\_sag.py:328: ConvergenceWarning: The max_iter was reached which means the coef_ did not converge\n",
      "  warnings.warn(\"The max_iter was reached which means \"\n"
     ]
    },
    {
     "name": "stdout",
     "output_type": "stream",
     "text": [
      "[CV 4/5] END ................C=0.1, solver=saga;, score=0.894 total time=   0.1s\n",
      "[CV 5/5] END ................C=0.1, solver=saga;, score=0.865 total time=   0.0s\n",
      "[CV 1/5] END .............C=1, solver=newton-cg;, score=0.866 total time=   0.0s\n",
      "[CV 2/5] END .............C=1, solver=newton-cg;, score=0.900 total time=   0.0s\n",
      "[CV 3/5] END .............C=1, solver=newton-cg;, score=0.889 total time=   0.0s\n",
      "[CV 4/5] END .............C=1, solver=newton-cg;, score=0.893 total time=   0.0s\n",
      "[CV 5/5] END .............C=1, solver=newton-cg;, score=0.865 total time=   0.0s\n",
      "[CV 1/5] END .................C=1, solver=lbfgs;, score=0.866 total time=   0.0s\n",
      "[CV 2/5] END .................C=1, solver=lbfgs;, score=0.900 total time=   0.0s\n",
      "[CV 3/5] END .................C=1, solver=lbfgs;, score=0.889 total time=   0.0s\n",
      "[CV 4/5] END .................C=1, solver=lbfgs;, score=0.893 total time=   0.0s\n",
      "[CV 5/5] END .................C=1, solver=lbfgs;, score=0.865 total time=   0.0s\n",
      "[CV 1/5] END ...................C=1, solver=sag;, score=0.866 total time=   0.0s\n",
      "[CV 2/5] END ...................C=1, solver=sag;, score=0.900 total time=   0.0s\n",
      "[CV 3/5] END ...................C=1, solver=sag;, score=0.889 total time=   0.0s\n",
      "[CV 4/5] END ...................C=1, solver=sag;, score=0.893 total time=   0.0s\n"
     ]
    },
    {
     "name": "stderr",
     "output_type": "stream",
     "text": [
      "C:\\Users\\GiuliaEl\\Anaconda3\\lib\\site-packages\\sklearn\\linear_model\\_sag.py:328: ConvergenceWarning: The max_iter was reached which means the coef_ did not converge\n",
      "  warnings.warn(\"The max_iter was reached which means \"\n",
      "C:\\Users\\GiuliaEl\\Anaconda3\\lib\\site-packages\\sklearn\\linear_model\\_sag.py:328: ConvergenceWarning: The max_iter was reached which means the coef_ did not converge\n",
      "  warnings.warn(\"The max_iter was reached which means \"\n"
     ]
    },
    {
     "name": "stdout",
     "output_type": "stream",
     "text": [
      "[CV 5/5] END ...................C=1, solver=sag;, score=0.865 total time=   0.1s\n",
      "[CV 1/5] END ..................C=1, solver=saga;, score=0.866 total time=   0.1s\n"
     ]
    },
    {
     "name": "stderr",
     "output_type": "stream",
     "text": [
      "C:\\Users\\GiuliaEl\\Anaconda3\\lib\\site-packages\\sklearn\\linear_model\\_sag.py:328: ConvergenceWarning: The max_iter was reached which means the coef_ did not converge\n",
      "  warnings.warn(\"The max_iter was reached which means \"\n",
      "C:\\Users\\GiuliaEl\\Anaconda3\\lib\\site-packages\\sklearn\\linear_model\\_sag.py:328: ConvergenceWarning: The max_iter was reached which means the coef_ did not converge\n",
      "  warnings.warn(\"The max_iter was reached which means \"\n"
     ]
    },
    {
     "name": "stdout",
     "output_type": "stream",
     "text": [
      "[CV 2/5] END ..................C=1, solver=saga;, score=0.900 total time=   0.1s\n",
      "[CV 3/5] END ..................C=1, solver=saga;, score=0.889 total time=   0.1s\n"
     ]
    },
    {
     "name": "stderr",
     "output_type": "stream",
     "text": [
      "C:\\Users\\GiuliaEl\\Anaconda3\\lib\\site-packages\\sklearn\\linear_model\\_sag.py:328: ConvergenceWarning: The max_iter was reached which means the coef_ did not converge\n",
      "  warnings.warn(\"The max_iter was reached which means \"\n",
      "C:\\Users\\GiuliaEl\\Anaconda3\\lib\\site-packages\\sklearn\\linear_model\\_sag.py:328: ConvergenceWarning: The max_iter was reached which means the coef_ did not converge\n",
      "  warnings.warn(\"The max_iter was reached which means \"\n"
     ]
    },
    {
     "name": "stdout",
     "output_type": "stream",
     "text": [
      "[CV 4/5] END ..................C=1, solver=saga;, score=0.893 total time=   0.1s\n",
      "[CV 5/5] END ..................C=1, solver=saga;, score=0.865 total time=   0.1s\n",
      "[CV 1/5] END ............C=10, solver=newton-cg;, score=0.866 total time=   0.0s\n",
      "[CV 2/5] END ............C=10, solver=newton-cg;, score=0.900 total time=   0.0s\n",
      "[CV 3/5] END ............C=10, solver=newton-cg;, score=0.889 total time=   0.0s\n",
      "[CV 4/5] END ............C=10, solver=newton-cg;, score=0.893 total time=   0.0s\n",
      "[CV 5/5] END ............C=10, solver=newton-cg;, score=0.864 total time=   0.0s\n",
      "[CV 1/5] END ................C=10, solver=lbfgs;, score=0.866 total time=   0.0s\n",
      "[CV 2/5] END ................C=10, solver=lbfgs;, score=0.900 total time=   0.0s\n",
      "[CV 3/5] END ................C=10, solver=lbfgs;, score=0.889 total time=   0.0s\n",
      "[CV 4/5] END ................C=10, solver=lbfgs;, score=0.893 total time=   0.0s\n",
      "[CV 5/5] END ................C=10, solver=lbfgs;, score=0.864 total time=   0.0s\n",
      "[CV 1/5] END ..................C=10, solver=sag;, score=0.866 total time=   0.1s\n",
      "[CV 2/5] END ..................C=10, solver=sag;, score=0.900 total time=   0.0s\n",
      "[CV 3/5] END ..................C=10, solver=sag;, score=0.889 total time=   0.0s\n",
      "[CV 4/5] END ..................C=10, solver=sag;, score=0.893 total time=   0.1s\n"
     ]
    },
    {
     "name": "stderr",
     "output_type": "stream",
     "text": [
      "C:\\Users\\GiuliaEl\\Anaconda3\\lib\\site-packages\\sklearn\\linear_model\\_sag.py:328: ConvergenceWarning: The max_iter was reached which means the coef_ did not converge\n",
      "  warnings.warn(\"The max_iter was reached which means \"\n",
      "C:\\Users\\GiuliaEl\\Anaconda3\\lib\\site-packages\\sklearn\\linear_model\\_sag.py:328: ConvergenceWarning: The max_iter was reached which means the coef_ did not converge\n",
      "  warnings.warn(\"The max_iter was reached which means \"\n"
     ]
    },
    {
     "name": "stdout",
     "output_type": "stream",
     "text": [
      "[CV 5/5] END ..................C=10, solver=sag;, score=0.864 total time=   0.1s\n",
      "[CV 1/5] END .................C=10, solver=saga;, score=0.866 total time=   0.1s\n"
     ]
    },
    {
     "name": "stderr",
     "output_type": "stream",
     "text": [
      "C:\\Users\\GiuliaEl\\Anaconda3\\lib\\site-packages\\sklearn\\linear_model\\_sag.py:328: ConvergenceWarning: The max_iter was reached which means the coef_ did not converge\n",
      "  warnings.warn(\"The max_iter was reached which means \"\n",
      "C:\\Users\\GiuliaEl\\Anaconda3\\lib\\site-packages\\sklearn\\linear_model\\_sag.py:328: ConvergenceWarning: The max_iter was reached which means the coef_ did not converge\n",
      "  warnings.warn(\"The max_iter was reached which means \"\n"
     ]
    },
    {
     "name": "stdout",
     "output_type": "stream",
     "text": [
      "[CV 2/5] END .................C=10, solver=saga;, score=0.900 total time=   0.1s\n",
      "[CV 3/5] END .................C=10, solver=saga;, score=0.889 total time=   0.1s\n"
     ]
    },
    {
     "name": "stderr",
     "output_type": "stream",
     "text": [
      "C:\\Users\\GiuliaEl\\Anaconda3\\lib\\site-packages\\sklearn\\linear_model\\_sag.py:328: ConvergenceWarning: The max_iter was reached which means the coef_ did not converge\n",
      "  warnings.warn(\"The max_iter was reached which means \"\n",
      "C:\\Users\\GiuliaEl\\Anaconda3\\lib\\site-packages\\sklearn\\linear_model\\_sag.py:328: ConvergenceWarning: The max_iter was reached which means the coef_ did not converge\n",
      "  warnings.warn(\"The max_iter was reached which means \"\n"
     ]
    },
    {
     "name": "stdout",
     "output_type": "stream",
     "text": [
      "[CV 4/5] END .................C=10, solver=saga;, score=0.893 total time=   0.1s\n",
      "[CV 5/5] END .................C=10, solver=saga;, score=0.864 total time=   0.1s\n",
      "[CV 1/5] END ...........C=100, solver=newton-cg;, score=0.866 total time=   0.0s\n",
      "[CV 2/5] END ...........C=100, solver=newton-cg;, score=0.900 total time=   0.0s\n",
      "[CV 3/5] END ...........C=100, solver=newton-cg;, score=0.889 total time=   0.0s\n",
      "[CV 4/5] END ...........C=100, solver=newton-cg;, score=0.893 total time=   0.0s\n",
      "[CV 5/5] END ...........C=100, solver=newton-cg;, score=0.864 total time=   0.0s\n",
      "[CV 1/5] END ...............C=100, solver=lbfgs;, score=0.866 total time=   0.0s\n",
      "[CV 2/5] END ...............C=100, solver=lbfgs;, score=0.900 total time=   0.0s\n",
      "[CV 3/5] END ...............C=100, solver=lbfgs;, score=0.889 total time=   0.0s\n",
      "[CV 4/5] END ...............C=100, solver=lbfgs;, score=0.893 total time=   0.0s\n",
      "[CV 5/5] END ...............C=100, solver=lbfgs;, score=0.864 total time=   0.0s\n",
      "[CV 1/5] END .................C=100, solver=sag;, score=0.866 total time=   0.0s\n",
      "[CV 2/5] END .................C=100, solver=sag;, score=0.900 total time=   0.1s\n",
      "[CV 3/5] END .................C=100, solver=sag;, score=0.889 total time=   0.0s\n",
      "[CV 4/5] END .................C=100, solver=sag;, score=0.893 total time=   0.1s\n"
     ]
    },
    {
     "name": "stderr",
     "output_type": "stream",
     "text": [
      "C:\\Users\\GiuliaEl\\Anaconda3\\lib\\site-packages\\sklearn\\linear_model\\_sag.py:328: ConvergenceWarning: The max_iter was reached which means the coef_ did not converge\n",
      "  warnings.warn(\"The max_iter was reached which means \"\n",
      "C:\\Users\\GiuliaEl\\Anaconda3\\lib\\site-packages\\sklearn\\linear_model\\_sag.py:328: ConvergenceWarning: The max_iter was reached which means the coef_ did not converge\n",
      "  warnings.warn(\"The max_iter was reached which means \"\n"
     ]
    },
    {
     "name": "stdout",
     "output_type": "stream",
     "text": [
      "[CV 5/5] END .................C=100, solver=sag;, score=0.864 total time=   0.0s\n",
      "[CV 1/5] END ................C=100, solver=saga;, score=0.866 total time=   0.1s\n"
     ]
    },
    {
     "name": "stderr",
     "output_type": "stream",
     "text": [
      "C:\\Users\\GiuliaEl\\Anaconda3\\lib\\site-packages\\sklearn\\linear_model\\_sag.py:328: ConvergenceWarning: The max_iter was reached which means the coef_ did not converge\n",
      "  warnings.warn(\"The max_iter was reached which means \"\n",
      "C:\\Users\\GiuliaEl\\Anaconda3\\lib\\site-packages\\sklearn\\linear_model\\_sag.py:328: ConvergenceWarning: The max_iter was reached which means the coef_ did not converge\n",
      "  warnings.warn(\"The max_iter was reached which means \"\n"
     ]
    },
    {
     "name": "stdout",
     "output_type": "stream",
     "text": [
      "[CV 2/5] END ................C=100, solver=saga;, score=0.900 total time=   0.1s\n",
      "[CV 3/5] END ................C=100, solver=saga;, score=0.889 total time=   0.1s\n"
     ]
    },
    {
     "name": "stderr",
     "output_type": "stream",
     "text": [
      "C:\\Users\\GiuliaEl\\Anaconda3\\lib\\site-packages\\sklearn\\linear_model\\_sag.py:328: ConvergenceWarning: The max_iter was reached which means the coef_ did not converge\n",
      "  warnings.warn(\"The max_iter was reached which means \"\n",
      "C:\\Users\\GiuliaEl\\Anaconda3\\lib\\site-packages\\sklearn\\linear_model\\_sag.py:328: ConvergenceWarning: The max_iter was reached which means the coef_ did not converge\n",
      "  warnings.warn(\"The max_iter was reached which means \"\n"
     ]
    },
    {
     "name": "stdout",
     "output_type": "stream",
     "text": [
      "[CV 4/5] END ................C=100, solver=saga;, score=0.893 total time=   0.1s\n",
      "[CV 5/5] END ................C=100, solver=saga;, score=0.864 total time=   0.1s\n"
     ]
    },
    {
     "data": {
      "text/plain": [
       "LogisticRegression(C=0.01, solver='saga')"
      ]
     },
     "execution_count": 113,
     "metadata": {},
     "output_type": "execute_result"
    }
   ],
   "source": [
    "lrm_grid.fit(Xsc_train,y_train)\n",
    "lrm_grid.best_params_\n",
    "lrm_grid.best_estimator_"
   ]
  },
  {
   "cell_type": "code",
   "execution_count": 114,
   "id": "b18bf041",
   "metadata": {},
   "outputs": [
    {
     "name": "stdout",
     "output_type": "stream",
     "text": [
      "Resultados de la Regresion Logistica Optimizada:\n",
      "Exactitud       :  0.8770979967514889\n",
      "F1 Score        :  0.4805491990846682\n",
      "Precision       :  0.7835820895522388\n",
      "Recall          :  0.3465346534653465\n",
      "Matrix de Confusion:\n",
      "  [[1515   29]\n",
      " [ 198  105]]\n"
     ]
    }
   ],
   "source": [
    "lrm_grid = LogisticRegression()\n",
    "lrm_grid.fit(Xsc_train,y_train)\n",
    "lrm_grid_pred = lrm_grid.predict(Xsc_val)\n",
    "\n",
    "print('Resultados de la Regresion Logistica Optimizada:')\n",
    "print('Exactitud       : ', metrics.accuracy_score(y_val, lrm_grid_pred))\n",
    "print('F1 Score        : ', metrics.f1_score(y_val, lrm_grid_pred))\n",
    "print('Precision       : ', metrics.precision_score(y_val, lrm_grid_pred))\n",
    "print('Recall          : ', metrics.recall_score(y_val, lrm_grid_pred))\n",
    "print('Matrix de Confusion:\\n ', confusion_matrix(y_val, lrm_grid_pred))"
   ]
  },
  {
   "cell_type": "markdown",
   "id": "f71166ba",
   "metadata": {},
   "source": [
    "Nuestros valores no han mejorado  con la optimizacion"
   ]
  },
  {
   "cell_type": "markdown",
   "id": "78348e6b",
   "metadata": {},
   "source": [
    "## Modelo 2: Random Forest\n",
    "Este modelo opera construyendo muchos arboles de decision en el entrenamiento. Lo mas positivo de este modelo es que permite la utilizacion de distintias variables continuas, otorgando en general mejores resultados en problemas de clasificacion"
   ]
  },
  {
   "cell_type": "markdown",
   "id": "b8e8c1c3",
   "metadata": {},
   "source": [
    "### Aplicamos el modelo por defecto"
   ]
  },
  {
   "cell_type": "code",
   "execution_count": 115,
   "id": "28a14b58",
   "metadata": {},
   "outputs": [
    {
     "name": "stdout",
     "output_type": "stream",
     "text": [
      "Resultados del Random Forest:\n",
      "Exactitud          :  0.8900920411478073\n",
      "F1 Score           :  0.6205607476635514\n",
      "Precision          :  0.7155172413793104\n",
      "Recall             :  0.5478547854785478\n",
      "Matrix de confusion:\n",
      "  [[1478   66]\n",
      " [ 137  166]]\n"
     ]
    }
   ],
   "source": [
    "rfm = RandomForestClassifier()\n",
    "rfm.fit(Xsc_train,y_train)\n",
    "rfm_pred = rfm.predict(Xsc_val)\n",
    "\n",
    "print('Resultados del Random Forest:')\n",
    "print('Exactitud          : ', metrics.accuracy_score(y_val, rfm_pred))\n",
    "print('F1 Score           : ', metrics.f1_score(y_val, rfm_pred))\n",
    "print('Precision          : ', metrics.precision_score(y_val, rfm_pred))\n",
    "print('Recall             : ', metrics.recall_score(y_val, rfm_pred))\n",
    "print('Matrix de confusion:\\n ', confusion_matrix(y_val, rfm_pred))"
   ]
  },
  {
   "cell_type": "markdown",
   "id": "7b549510",
   "metadata": {},
   "source": [
    "El modelo ha mejorado significamente en comparacion a la regresion logistica, nuestro F1 score ha incrementado de un 48% a 62% (con parametros en defecto), asimismo, la exactitud ha llegado a un 89%. En comparacion el recall es mucho mas alto en este modelo. Posteriormente revisaremos con la optimizacion si estos valores mejoran. "
   ]
  },
  {
   "cell_type": "code",
   "execution_count": 117,
   "id": "9c48baa7",
   "metadata": {},
   "outputs": [
    {
     "data": {
      "image/png": "[encoded data removed]",
      "text/plain": [
       "<Figure size 432x288 with 1 Axes>"
      ]
     },
     "metadata": {
      "needs_background": "light"
     },
     "output_type": "display_data"
    }
   ],
   "source": [
    "#Curva ROC\n",
    "#definimos las metricas\n",
    "y_pred_rfm = rfm.predict_proba(Xsc_test)[::,1]\n",
    "frf, trf, _ = metrics.roc_curve(y_test,  y_pred_rfm)\n",
    "auc_rfm = metrics.roc_auc_score(y_test, y_pred_rfm)\n",
    "\n",
    "#creamos la curva agregando AUC\n",
    "plt.plot(fpr,tpr,label=\"AUC=\"+str(auc_rfm))\n",
    "plt.ylabel('True Positive Rate')\n",
    "plt.xlabel('False Positive Rate')\n",
    "plt.legend(loc=4)\n",
    "plt.show()"
   ]
  },
  {
   "cell_type": "markdown",
   "id": "bd5639e0",
   "metadata": {},
   "source": [
    "Observamos que nuestros valores AUC tambien han mejorado significativamente en comparacion a la regresion logistica. de un 86% a un 92%."
   ]
  },
  {
   "cell_type": "markdown",
   "id": "209757f1",
   "metadata": {},
   "source": [
    "### Optimizamos parametros"
   ]
  },
  {
   "cell_type": "code",
   "execution_count": 118,
   "id": "0fc0587e",
   "metadata": {},
   "outputs": [],
   "source": [
    "#utilizamos GridSearch\n",
    "rfm_param_grid = { \n",
    "    'n_estimators': [200, 500],\n",
    "    'max_features': ['auto', 'sqrt', 'log2'],\n",
    "    'max_depth' : [4,5,6,7,8],\n",
    "    'criterion' :['gini', 'entropy']}\n",
    "rfm_grid = GridSearchCV(RandomForestClassifier(),\n",
    "                        rfm_param_grid)"
   ]
  },
  {
   "cell_type": "code",
   "execution_count": 119,
   "id": "deddf5b3",
   "metadata": {},
   "outputs": [
    {
     "data": {
      "text/plain": [
       "RandomForestClassifier(max_depth=8, max_features='sqrt', n_estimators=200)"
      ]
     },
     "execution_count": 119,
     "metadata": {},
     "output_type": "execute_result"
    }
   ],
   "source": [
    "rfm_grid.fit(Xsc_train,y_train)\n",
    "rfm_grid.best_params_\n",
    "rfm_grid.best_estimator_"
   ]
  },
  {
   "cell_type": "code",
   "execution_count": 120,
   "id": "c975c16e",
   "metadata": {},
   "outputs": [
    {
     "name": "stdout",
     "output_type": "stream",
     "text": [
      "Resultados de la Regresion Logistica Optimizada:\n",
      "Exactitud       :  0.8770979967514889\n",
      "F1 Score        :  0.4805491990846682\n",
      "Precision       :  0.7835820895522388\n",
      "Recall          :  0.3465346534653465\n",
      "Matrix de Confusion:\n",
      "  [[1515   29]\n",
      " [ 198  105]]\n"
     ]
    }
   ],
   "source": [
    "rfm_grid = RandomForestClassifier()\n",
    "rfm_grid.fit(Xsc_train,y_train)\n",
    "rfm_grid_pred = lrm_grid.predict(Xsc_val)\n",
    "\n",
    "print('Resultados de la Regresion Logistica Optimizada:')\n",
    "print('Exactitud       : ', metrics.accuracy_score(y_val, rfm_grid_pred))\n",
    "print('F1 Score        : ', metrics.f1_score(y_val, rfm_grid_pred))\n",
    "print('Precision       : ', metrics.precision_score(y_val, rfm_grid_pred))\n",
    "print('Recall          : ', metrics.recall_score(y_val, rfm_grid_pred))\n",
    "print('Matrix de Confusion:\\n ', confusion_matrix(y_val, rfm_grid_pred))"
   ]
  },
  {
   "cell_type": "code",
   "execution_count": 123,
   "id": "aef6bc52",
   "metadata": {},
   "outputs": [
    {
     "data": {
      "image/png": "[encoded data removed]",
      "text/plain": [
       "<Figure size 432x288 with 1 Axes>"
      ]
     },
     "metadata": {
      "needs_background": "light"
     },
     "output_type": "display_data"
    }
   ],
   "source": [
    "#Curva ROC\n",
    "#definimos las metricas\n",
    "rfm_grid_pred = rfm.predict_proba(Xsc_test)[::,1]\n",
    "grf, grf, _ = metrics.roc_curve(y_test,  rfm_grid_pred)\n",
    "auc_grid_rfm = metrics.roc_auc_score(y_test, rfm_grid_pred)\n",
    "\n",
    "#creamos la curva agregando AUC\n",
    "plt.plot(fpr,tpr,label=\"AUC=\"+str(auc_grid_rfm))\n",
    "plt.ylabel('True Positive Rate')\n",
    "plt.xlabel('False Positive Rate')\n",
    "plt.legend(loc=4)\n",
    "plt.show()"
   ]
  },
  {
   "cell_type": "markdown",
   "id": "d6302588",
   "metadata": {},
   "source": [
    "la curvatura ha mejorado de la misma manera, aunque no han habido cambios en el valor AUC"
   ]
  },
  {
   "cell_type": "markdown",
   "id": "3dc48803",
   "metadata": {},
   "source": [
    "## Modelo 3: Red Neural\n",
    "\n",
    "### Artificial Neural Network\n",
    "\n",
    "Una ANN esta basada en una colleccion de unidades conectadas o nodos llamados neuronas artificiales, que modela las neuronas del cerebro biologico"
   ]
  },
  {
   "cell_type": "code",
   "execution_count": 56,
   "id": "6a62eea3",
   "metadata": {},
   "outputs": [],
   "source": [
    "#Vamos a crear nuestro objeto ANN usando una clase de KERAS llamada Sequential.\n",
    "ann = tf.keras.models.Sequential()"
   ]
  },
  {
   "cell_type": "code",
   "execution_count": 57,
   "id": "f52d536b",
   "metadata": {},
   "outputs": [],
   "source": [
    "#Agregamos nuestra primera capa\n",
    "ann.add(tf.keras.layers.Dense(units=6,activation=\"relu\"))"
   ]
  },
  {
   "cell_type": "code",
   "execution_count": 58,
   "id": "2fdb499c",
   "metadata": {},
   "outputs": [],
   "source": [
    "#Agregamos una segunda capa oculta\n",
    "ann.add(tf.keras.layers.Dense(units=6,activation=\"relu\"))"
   ]
  },
  {
   "cell_type": "code",
   "execution_count": 59,
   "id": "dc8c0d3a",
   "metadata": {},
   "outputs": [],
   "source": [
    "#creamos una capa de salida\n",
    "ann.add(tf.keras.layers.Dense(units=1,activation=\"sigmoid\"))"
   ]
  },
  {
   "cell_type": "code",
   "execution_count": 69,
   "id": "a790594f",
   "metadata": {},
   "outputs": [],
   "source": [
    "#Compilamos ANN para obtener nuestro nivel de exactitud\n",
    "ann.compile(optimizer='adam', loss=tf.keras.losses.BinaryCrossentropy(), metrics=['Accuracy', tf.keras.metrics.Precision(), tf.keras.metrics.Recall(), tf.keras.metrics.AUC()])\n",
    "            "
   ]
  },
  {
   "cell_type": "code",
   "execution_count": 70,
   "id": "c76dd367",
   "metadata": {},
   "outputs": [
    {
     "name": "stdout",
     "output_type": "stream",
     "text": [
      "Epoch 1/100\n",
      "270/270 [==============================] - 1s 2ms/step - loss: 0.2411 - Accuracy: 0.9109 - precision_4: 0.7823 - recall_1: 0.5843 - auc_1: 0.9114\n",
      "Epoch 2/100\n",
      "270/270 [==============================] - 0s 1ms/step - loss: 0.2384 - Accuracy: 0.9099 - precision_4: 0.7741 - recall_1: 0.5858 - auc_1: 0.9134\n",
      "Epoch 3/100\n",
      "270/270 [==============================] - 0s 1ms/step - loss: 0.2377 - Accuracy: 0.9099 - precision_4: 0.7843 - recall_1: 0.5723 - auc_1: 0.9139\n",
      "Epoch 4/100\n",
      "270/270 [==============================] - 0s 1ms/step - loss: 0.2368 - Accuracy: 0.9091 - precision_4: 0.7742 - recall_1: 0.5783 - auc_1: 0.9151\n",
      "Epoch 5/100\n",
      "270/270 [==============================] - 0s 1ms/step - loss: 0.2361 - Accuracy: 0.9095 - precision_4: 0.7724 - recall_1: 0.5851 - auc_1: 0.9150\n",
      "Epoch 6/100\n",
      "270/270 [==============================] - 0s 1ms/step - loss: 0.2361 - Accuracy: 0.9094 - precision_4: 0.7771 - recall_1: 0.5776 - auc_1: 0.9146\n",
      "Epoch 7/100\n",
      "270/270 [==============================] - 0s 1ms/step - loss: 0.2354 - Accuracy: 0.9087 - precision_4: 0.7769 - recall_1: 0.5715 - auc_1: 0.9157\n",
      "Epoch 8/100\n",
      "270/270 [==============================] - 0s 1ms/step - loss: 0.2354 - Accuracy: 0.9092 - precision_4: 0.7761 - recall_1: 0.5768 - auc_1: 0.9158\n",
      "Epoch 9/100\n",
      "270/270 [==============================] - 0s 1ms/step - loss: 0.2354 - Accuracy: 0.9093 - precision_4: 0.7730 - recall_1: 0.5821 - auc_1: 0.9160\n",
      "Epoch 10/100\n",
      "270/270 [==============================] - 0s 1ms/step - loss: 0.2347 - Accuracy: 0.9089 - precision_4: 0.7729 - recall_1: 0.5791 - auc_1: 0.9163\n",
      "Epoch 11/100\n",
      "270/270 [==============================] - 0s 1ms/step - loss: 0.2345 - Accuracy: 0.9086 - precision_4: 0.7778 - recall_1: 0.5693 - auc_1: 0.9160  \n",
      "Epoch 12/100\n",
      "270/270 [==============================] - 0s 1ms/step - loss: 0.2344 - Accuracy: 0.9088 - precision_4: 0.7705 - recall_1: 0.5813 - auc_1: 0.9167\n",
      "Epoch 13/100\n",
      "270/270 [==============================] - 0s 1ms/step - loss: 0.2346 - Accuracy: 0.9092 - precision_4: 0.7755 - recall_1: 0.5776 - auc_1: 0.9162\n",
      "Epoch 14/100\n",
      "270/270 [==============================] - 0s 2ms/step - loss: 0.2342 - Accuracy: 0.9085 - precision_4: 0.7698 - recall_1: 0.5791 - auc_1: 0.9167\n",
      "Epoch 15/100\n",
      "270/270 [==============================] - 0s 1ms/step - loss: 0.2343 - Accuracy: 0.9080 - precision_4: 0.7705 - recall_1: 0.5738 - auc_1: 0.9165\n",
      "Epoch 16/100\n",
      "270/270 [==============================] - 0s 1ms/step - loss: 0.2342 - Accuracy: 0.9073 - precision_4: 0.7664 - recall_1: 0.5730 - auc_1: 0.9165\n",
      "Epoch 17/100\n",
      "270/270 [==============================] - 0s 1ms/step - loss: 0.2338 - Accuracy: 0.9072 - precision_4: 0.7667 - recall_1: 0.5715 - auc_1: 0.9172\n",
      "Epoch 18/100\n",
      "270/270 [==============================] - 0s 2ms/step - loss: 0.2339 - Accuracy: 0.9085 - precision_4: 0.7709 - recall_1: 0.5776 - auc_1: 0.9165\n",
      "Epoch 19/100\n",
      "270/270 [==============================] - 0s 1ms/step - loss: 0.2331 - Accuracy: 0.9085 - precision_4: 0.7736 - recall_1: 0.5738 - auc_1: 0.9178\n",
      "Epoch 20/100\n",
      "270/270 [==============================] - 0s 1ms/step - loss: 0.2335 - Accuracy: 0.9079 - precision_4: 0.7713 - recall_1: 0.5715 - auc_1: 0.9173\n",
      "Epoch 21/100\n",
      "270/270 [==============================] - 0s 1ms/step - loss: 0.2331 - Accuracy: 0.9074 - precision_4: 0.7699 - recall_1: 0.5693 - auc_1: 0.9181\n",
      "Epoch 22/100\n",
      "270/270 [==============================] - 0s 1ms/step - loss: 0.2335 - Accuracy: 0.9080 - precision_4: 0.7710 - recall_1: 0.5730 - auc_1: 0.9176\n",
      "Epoch 23/100\n",
      "270/270 [==============================] - 0s 1ms/step - loss: 0.2328 - Accuracy: 0.9085 - precision_4: 0.7736 - recall_1: 0.5738 - auc_1: 0.9182\n",
      "Epoch 24/100\n",
      "270/270 [==============================] - 0s 1ms/step - loss: 0.2330 - Accuracy: 0.9079 - precision_4: 0.7697 - recall_1: 0.5738 - auc_1: 0.9181\n",
      "Epoch 25/100\n",
      "270/270 [==============================] - 0s 1ms/step - loss: 0.2331 - Accuracy: 0.9084 - precision_4: 0.7739 - recall_1: 0.5723 - auc_1: 0.9176\n",
      "Epoch 26/100\n",
      "270/270 [==============================] - 0s 1ms/step - loss: 0.2327 - Accuracy: 0.9080 - precision_4: 0.7716 - recall_1: 0.5723 - auc_1: 0.9186\n",
      "Epoch 27/100\n",
      "270/270 [==============================] - 0s 1ms/step - loss: 0.2323 - Accuracy: 0.9081 - precision_4: 0.7735 - recall_1: 0.5708 - auc_1: 0.9187\n",
      "Epoch 28/100\n",
      "270/270 [==============================] - 0s 1ms/step - loss: 0.2327 - Accuracy: 0.9086 - precision_4: 0.7749 - recall_1: 0.5730 - auc_1: 0.9183\n",
      "Epoch 29/100\n",
      "270/270 [==============================] - 0s 1ms/step - loss: 0.2326 - Accuracy: 0.9073 - precision_4: 0.7707 - recall_1: 0.5670 - auc_1: 0.9187\n",
      "Epoch 30/100\n",
      "270/270 [==============================] - 0s 1ms/step - loss: 0.2325 - Accuracy: 0.9086 - precision_4: 0.7744 - recall_1: 0.5738 - auc_1: 0.9187\n",
      "Epoch 31/100\n",
      "270/270 [==============================] - 0s 1ms/step - loss: 0.2322 - Accuracy: 0.9084 - precision_4: 0.7728 - recall_1: 0.5738 - auc_1: 0.9196\n",
      "Epoch 32/100\n",
      "270/270 [==============================] - 0s 1ms/step - loss: 0.2324 - Accuracy: 0.9074 - precision_4: 0.7699 - recall_1: 0.5693 - auc_1: 0.9195\n",
      "Epoch 33/100\n",
      "270/270 [==============================] - 0s 1ms/step - loss: 0.2321 - Accuracy: 0.9088 - precision_4: 0.7760 - recall_1: 0.5738 - auc_1: 0.9193\n",
      "Epoch 34/100\n",
      "270/270 [==============================] - 0s 1ms/step - loss: 0.2324 - Accuracy: 0.9080 - precision_4: 0.7716 - recall_1: 0.5723 - auc_1: 0.9196\n",
      "Epoch 35/100\n",
      "270/270 [==============================] - 0s 1ms/step - loss: 0.2319 - Accuracy: 0.9080 - precision_4: 0.7732 - recall_1: 0.5700 - auc_1: 0.9201\n",
      "Epoch 36/100\n",
      "270/270 [==============================] - 0s 1ms/step - loss: 0.2321 - Accuracy: 0.9080 - precision_4: 0.7710 - recall_1: 0.5730 - auc_1: 0.9195\n",
      "Epoch 37/100\n",
      "270/270 [==============================] - 0s 1ms/step - loss: 0.2323 - Accuracy: 0.9088 - precision_4: 0.7732 - recall_1: 0.5776 - auc_1: 0.9197\n",
      "Epoch 38/100\n",
      "270/270 [==============================] - 0s 1ms/step - loss: 0.2318 - Accuracy: 0.9081 - precision_4: 0.7729 - recall_1: 0.5715 - auc_1: 0.9199\n",
      "Epoch 39/100\n",
      "270/270 [==============================] - 0s 1ms/step - loss: 0.2316 - Accuracy: 0.9089 - precision_4: 0.7768 - recall_1: 0.5738 - auc_1: 0.9201\n",
      "Epoch 40/100\n",
      "270/270 [==============================] - 0s 1ms/step - loss: 0.2314 - Accuracy: 0.9087 - precision_4: 0.7730 - recall_1: 0.5768 - auc_1: 0.9201\n",
      "Epoch 41/100\n",
      "270/270 [==============================] - 0s 1ms/step - loss: 0.2316 - Accuracy: 0.9086 - precision_4: 0.7738 - recall_1: 0.5745 - auc_1: 0.9204\n",
      "Epoch 42/100\n",
      "270/270 [==============================] - 0s 1ms/step - loss: 0.2317 - Accuracy: 0.9084 - precision_4: 0.7745 - recall_1: 0.5715 - auc_1: 0.9200\n",
      "Epoch 43/100\n",
      "270/270 [==============================] - 0s 1ms/step - loss: 0.2314 - Accuracy: 0.9087 - precision_4: 0.7741 - recall_1: 0.5753 - auc_1: 0.9201\n",
      "Epoch 44/100\n",
      "270/270 [==============================] - 0s 1ms/step - loss: 0.2315 - Accuracy: 0.9080 - precision_4: 0.7699 - recall_1: 0.5745 - auc_1: 0.9206\n",
      "Epoch 45/100\n",
      "270/270 [==============================] - 0s 1ms/step - loss: 0.2316 - Accuracy: 0.9091 - precision_4: 0.7759 - recall_1: 0.5761 - auc_1: 0.9201\n",
      "Epoch 46/100\n",
      "270/270 [==============================] - 0s 1ms/step - loss: 0.2313 - Accuracy: 0.9096 - precision_4: 0.7776 - recall_1: 0.5791 - auc_1: 0.9202\n",
      "Epoch 47/100\n",
      "270/270 [==============================] - 0s 1ms/step - loss: 0.2310 - Accuracy: 0.9086 - precision_4: 0.7766 - recall_1: 0.5708 - auc_1: 0.9210\n",
      "Epoch 48/100\n",
      "270/270 [==============================] - 0s 1ms/step - loss: 0.2309 - Accuracy: 0.9093 - precision_4: 0.7758 - recall_1: 0.5783 - auc_1: 0.9208\n",
      "Epoch 49/100\n",
      "270/270 [==============================] - 0s 1ms/step - loss: 0.2310 - Accuracy: 0.9084 - precision_4: 0.7706 - recall_1: 0.5768 - auc_1: 0.9212\n",
      "Epoch 50/100\n",
      "270/270 [==============================] - 0s 1ms/step - loss: 0.2314 - Accuracy: 0.9093 - precision_4: 0.7786 - recall_1: 0.5745 - auc_1: 0.9207\n",
      "Epoch 51/100\n",
      "270/270 [==============================] - 0s 1ms/step - loss: 0.2312 - Accuracy: 0.9084 - precision_4: 0.7674 - recall_1: 0.5813 - auc_1: 0.9211\n",
      "Epoch 52/100\n",
      "270/270 [==============================] - 0s 1ms/step - loss: 0.2310 - Accuracy: 0.9084 - precision_4: 0.7751 - recall_1: 0.5708 - auc_1: 0.9214\n",
      "Epoch 53/100\n",
      "270/270 [==============================] - 0s 1ms/step - loss: 0.2309 - Accuracy: 0.9086 - precision_4: 0.7755 - recall_1: 0.5723 - auc_1: 0.9211\n",
      "Epoch 54/100\n",
      "270/270 [==============================] - 0s 1ms/step - loss: 0.2310 - Accuracy: 0.9102 - precision_4: 0.7821 - recall_1: 0.5783 - auc_1: 0.9204\n",
      "Epoch 55/100\n",
      "270/270 [==============================] - 0s 1ms/step - loss: 0.2311 - Accuracy: 0.9086 - precision_4: 0.7738 - recall_1: 0.5745 - auc_1: 0.9210\n",
      "Epoch 56/100\n",
      "270/270 [==============================] - 0s 1ms/step - loss: 0.2308 - Accuracy: 0.9081 - precision_4: 0.7691 - recall_1: 0.5768 - auc_1: 0.9211\n",
      "Epoch 57/100\n",
      "270/270 [==============================] - 0s 1ms/step - loss: 0.2311 - Accuracy: 0.9093 - precision_4: 0.7780 - recall_1: 0.5753 - auc_1: 0.9210\n",
      "Epoch 58/100\n",
      "270/270 [==============================] - 0s 1ms/step - loss: 0.2313 - Accuracy: 0.9081 - precision_4: 0.7707 - recall_1: 0.5745 - auc_1: 0.9208\n",
      "Epoch 59/100\n",
      "270/270 [==============================] - 0s 1ms/step - loss: 0.2307 - Accuracy: 0.9086 - precision_4: 0.7744 - recall_1: 0.5738 - auc_1: 0.9211\n",
      "Epoch 60/100\n",
      "270/270 [==============================] - 0s 1ms/step - loss: 0.2306 - Accuracy: 0.9094 - precision_4: 0.7771 - recall_1: 0.5776 - auc_1: 0.9213\n",
      "Epoch 61/100\n",
      "270/270 [==============================] - 0s 1ms/step - loss: 0.2307 - Accuracy: 0.9086 - precision_4: 0.7733 - recall_1: 0.5753 - auc_1: 0.9217\n",
      "Epoch 62/100\n",
      "270/270 [==============================] - 0s 1ms/step - loss: 0.2302 - Accuracy: 0.9108 - precision_4: 0.7878 - recall_1: 0.5761 - auc_1: 0.9217\n",
      "Epoch 63/100\n",
      "270/270 [==============================] - 0s 1ms/step - loss: 0.2306 - Accuracy: 0.9091 - precision_4: 0.7742 - recall_1: 0.5783 - auc_1: 0.9215\n",
      "Epoch 64/100\n",
      "270/270 [==============================] - 0s 1ms/step - loss: 0.2304 - Accuracy: 0.9102 - precision_4: 0.7815 - recall_1: 0.5791 - auc_1: 0.9215\n",
      "Epoch 65/100\n",
      "270/270 [==============================] - 0s 1ms/step - loss: 0.2306 - Accuracy: 0.9096 - precision_4: 0.7776 - recall_1: 0.5791 - auc_1: 0.9214\n",
      "Epoch 66/100\n",
      "270/270 [==============================] - 0s 1ms/step - loss: 0.2305 - Accuracy: 0.9093 - precision_4: 0.7797 - recall_1: 0.5730 - auc_1: 0.9216\n",
      "Epoch 67/100\n",
      "270/270 [==============================] - 0s 1ms/step - loss: 0.2304 - Accuracy: 0.9091 - precision_4: 0.7787 - recall_1: 0.5723 - auc_1: 0.9214\n",
      "Epoch 68/100\n",
      "270/270 [==============================] - 0s 1ms/step - loss: 0.2304 - Accuracy: 0.9088 - precision_4: 0.7743 - recall_1: 0.5761 - auc_1: 0.9218\n",
      "Epoch 69/100\n",
      "270/270 [==============================] - 0s 1ms/step - loss: 0.2302 - Accuracy: 0.9093 - precision_4: 0.7741 - recall_1: 0.5806 - auc_1: 0.9219\n",
      "Epoch 70/100\n",
      "270/270 [==============================] - 0s 1ms/step - loss: 0.2298 - Accuracy: 0.9101 - precision_4: 0.7790 - recall_1: 0.5813 - auc_1: 0.9222\n",
      "Epoch 71/100\n",
      "270/270 [==============================] - 0s 1ms/step - loss: 0.2307 - Accuracy: 0.9080 - precision_4: 0.7761 - recall_1: 0.5663 - auc_1: 0.9217\n",
      "Epoch 72/100\n",
      "270/270 [==============================] - 0s 1ms/step - loss: 0.2301 - Accuracy: 0.9085 - precision_4: 0.7725 - recall_1: 0.5753 - auc_1: 0.9222\n",
      "Epoch 73/100\n",
      "270/270 [==============================] - 0s 1ms/step - loss: 0.2300 - Accuracy: 0.9099 - precision_4: 0.7769 - recall_1: 0.5821 - auc_1: 0.9220\n",
      "Epoch 74/100\n",
      "270/270 [==============================] - 0s 1ms/step - loss: 0.2309 - Accuracy: 0.9091 - precision_4: 0.7781 - recall_1: 0.5730 - auc_1: 0.9215\n",
      "Epoch 75/100\n",
      "270/270 [==============================] - 0s 1ms/step - loss: 0.2302 - Accuracy: 0.9099 - precision_4: 0.7803 - recall_1: 0.5776 - auc_1: 0.9220\n",
      "Epoch 76/100\n",
      "270/270 [==============================] - 0s 1ms/step - loss: 0.2302 - Accuracy: 0.9092 - precision_4: 0.7766 - recall_1: 0.5761 - auc_1: 0.9222\n",
      "Epoch 77/100\n",
      "270/270 [==============================] - 0s 1ms/step - loss: 0.2300 - Accuracy: 0.9094 - precision_4: 0.7782 - recall_1: 0.5761 - auc_1: 0.9224\n",
      "Epoch 78/100\n",
      "270/270 [==============================] - 0s 1ms/step - loss: 0.2299 - Accuracy: 0.9102 - precision_4: 0.7798 - recall_1: 0.5813 - auc_1: 0.9224\n",
      "Epoch 79/100\n",
      "270/270 [==============================] - 0s 1ms/step - loss: 0.2301 - Accuracy: 0.9100 - precision_4: 0.7828 - recall_1: 0.5753 - auc_1: 0.9222\n",
      "Epoch 80/100\n",
      "270/270 [==============================] - 0s 1ms/step - loss: 0.2299 - Accuracy: 0.9096 - precision_4: 0.7742 - recall_1: 0.5836 - auc_1: 0.9221\n",
      "Epoch 81/100\n",
      "270/270 [==============================] - 0s 1ms/step - loss: 0.2297 - Accuracy: 0.9099 - precision_4: 0.7814 - recall_1: 0.5761 - auc_1: 0.9225\n",
      "Epoch 82/100\n",
      "270/270 [==============================] - 0s 1ms/step - loss: 0.2298 - Accuracy: 0.9100 - precision_4: 0.7777 - recall_1: 0.5821 - auc_1: 0.9223\n",
      "Epoch 83/100\n",
      "270/270 [==============================] - 0s 1ms/step - loss: 0.2297 - Accuracy: 0.9098 - precision_4: 0.7789 - recall_1: 0.5783 - auc_1: 0.9228\n",
      "Epoch 84/100\n",
      "270/270 [==============================] - 0s 1ms/step - loss: 0.2298 - Accuracy: 0.9107 - precision_4: 0.7835 - recall_1: 0.5806 - auc_1: 0.9222\n",
      "Epoch 85/100\n",
      "270/270 [==============================] - 0s 1ms/step - loss: 0.2297 - Accuracy: 0.9099 - precision_4: 0.7814 - recall_1: 0.5761 - auc_1: 0.9225\n",
      "Epoch 86/100\n",
      "270/270 [==============================] - 0s 1ms/step - loss: 0.2296 - Accuracy: 0.9098 - precision_4: 0.7783 - recall_1: 0.5791 - auc_1: 0.9226\n",
      "Epoch 87/100\n",
      "270/270 [==============================] - 0s 1ms/step - loss: 0.2299 - Accuracy: 0.9088 - precision_4: 0.7771 - recall_1: 0.5723 - auc_1: 0.9225\n",
      "Epoch 88/100\n",
      "270/270 [==============================] - 0s 1ms/step - loss: 0.2296 - Accuracy: 0.9103 - precision_4: 0.7823 - recall_1: 0.5791 - auc_1: 0.9220\n",
      "Epoch 89/100\n",
      "270/270 [==============================] - 0s 1ms/step - loss: 0.2301 - Accuracy: 0.9091 - precision_4: 0.7787 - recall_1: 0.5723 - auc_1: 0.9217\n",
      "Epoch 90/100\n",
      "270/270 [==============================] - 0s 1ms/step - loss: 0.2296 - Accuracy: 0.9101 - precision_4: 0.7790 - recall_1: 0.5813 - auc_1: 0.9222\n",
      "Epoch 91/100\n",
      "270/270 [==============================] - 0s 1ms/step - loss: 0.2296 - Accuracy: 0.9103 - precision_4: 0.7835 - recall_1: 0.5776 - auc_1: 0.9223\n",
      "Epoch 92/100\n",
      "270/270 [==============================] - 0s 1ms/step - loss: 0.2298 - Accuracy: 0.9101 - precision_4: 0.7796 - recall_1: 0.5806 - auc_1: 0.9221\n",
      "Epoch 93/100\n",
      "270/270 [==============================] - 0s 1ms/step - loss: 0.2293 - Accuracy: 0.9100 - precision_4: 0.7794 - recall_1: 0.5798 - auc_1: 0.9228\n",
      "Epoch 94/100\n",
      "270/270 [==============================] - 0s 1ms/step - loss: 0.2295 - Accuracy: 0.9103 - precision_4: 0.7840 - recall_1: 0.5768 - auc_1: 0.9222\n",
      "Epoch 95/100\n",
      "270/270 [==============================] - 0s 1ms/step - loss: 0.2296 - Accuracy: 0.9100 - precision_4: 0.7822 - recall_1: 0.5761 - auc_1: 0.9223\n",
      "Epoch 96/100\n",
      "270/270 [==============================] - 0s 1ms/step - loss: 0.2293 - Accuracy: 0.9105 - precision_4: 0.7819 - recall_1: 0.5806 - auc_1: 0.9228\n",
      "Epoch 97/100\n",
      "270/270 [==============================] - 0s 1ms/step - loss: 0.2296 - Accuracy: 0.9109 - precision_4: 0.7875 - recall_1: 0.5776 - auc_1: 0.9225\n",
      "Epoch 98/100\n",
      "270/270 [==============================] - 0s 1ms/step - loss: 0.2294 - Accuracy: 0.9102 - precision_4: 0.7838 - recall_1: 0.5761 - auc_1: 0.9228\n",
      "Epoch 99/100\n",
      "270/270 [==============================] - 0s 1ms/step - loss: 0.2295 - Accuracy: 0.9099 - precision_4: 0.7808 - recall_1: 0.5768 - auc_1: 0.9226\n",
      "Epoch 100/100\n",
      "270/270 [==============================] - 0s 1ms/step - loss: 0.2293 - Accuracy: 0.9113 - precision_4: 0.7887 - recall_1: 0.5791 - auc_1: 0.9227\n"
     ]
    },
    {
     "data": {
      "text/plain": [
       "<keras.callbacks.History at 0x1fb28f877c0>"
      ]
     },
     "execution_count": 70,
     "metadata": {},
     "output_type": "execute_result"
    }
   ],
   "source": [
    "#Fitting de ANN\n",
    "ann.fit(Xsc_train,y_train,batch_size=32,epochs = 100)"
   ]
  },
  {
   "cell_type": "markdown",
   "id": "4efd51b0",
   "metadata": {},
   "source": [
    "Resultados del ANN:\n",
    "Exactitud       :  0.9113\n",
    "F1 Score        :  -\n",
    "Precision       :  0.7887\n",
    "Recall          :  0.5791\n",
    "\n",
    "Adicionalmente calculamos AUC: 0.9227\n",
    "\n",
    "Como se puede observar, nuestro nivel de exactitud mejoro a un 90%, 1% de mejora en relacion al random forest, aunque los niveles de precision se han mas o menos mantenidos, se muestra que el AUC es la mas alta obtenida hasta ahora sin tener que optimizar parametros. "
   ]
  },
  {
   "cell_type": "markdown",
   "id": "12c4736d",
   "metadata": {},
   "source": [
    "De todas los 3 modelos, el modelo que reuslta mas effectivo a simple vista es el ANN, dentro de las ventajas: \n",
    "- tiene la habilidad de trabajar con poco conocimiento\n",
    "- ANN aprende de eventos y toma decision comentando en eventos similares.\n",
    "- Alta calidad y exactityd en los outputs.\n",
    "Sin embargo una de las desventajas es que la red es dificil de determinar. "
   ]
  },
  {
   "cell_type": "code",
   "execution_count": null,
   "id": "7e7e478b",
   "metadata": {},
   "outputs": [],
   "source": []
  },
  {
   "cell_type": "code",
   "execution_count": null,
   "id": "56be65b1",
   "metadata": {},
   "outputs": [],
   "source": []
  },
  {
   "cell_type": "code",
   "execution_count": null,
   "id": "3a7b693f",
   "metadata": {},
   "outputs": [],
   "source": []
  },
  {
   "cell_type": "code",
   "execution_count": null,
   "id": "b0fd0def",
   "metadata": {},
   "outputs": [],
   "source": []
  },
  {
   "cell_type": "code",
   "execution_count": null,
   "id": "921c5ebe",
   "metadata": {},
   "outputs": [],
   "source": []
  },
  {
   "cell_type": "code",
   "execution_count": null,
   "id": "19feb327",
   "metadata": {},
   "outputs": [],
   "source": []
  },
  {
   "cell_type": "code",
   "execution_count": null,
   "id": "2ce74be1",
   "metadata": {},
   "outputs": [],
   "source": []
  }
 ],
 "metadata": {
  "kernelspec": {
   "display_name": "Python 3 (ipykernel)",
   "language": "python",
   "name": "python3"
  },
  "language_info": {
   "codemirror_mode": {
    "name": "ipython",
    "version": 3
   },
   "file_extension": ".py",
   "mimetype": "text/x-python",
   "name": "python",
   "nbconvert_exporter": "python",
   "pygments_lexer": "ipython3",
   "version": "3.9.7"
  }
 },
 "nbformat": 4,
 "nbformat_minor": 5
}
